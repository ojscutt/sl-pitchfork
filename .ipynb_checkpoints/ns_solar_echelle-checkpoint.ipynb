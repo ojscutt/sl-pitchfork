{
 "cells": [
  {
   "cell_type": "markdown",
   "id": "d2406328-f4fd-4f8f-933b-013c892d82e2",
   "metadata": {},
   "source": [
    "# ns_solar_echelle\n",
    "notebook for making echelle diagram from grid point. examples for:\n",
    "- true values from grid\n",
    "- true values compared to values taken from random draws of obs noise\n",
    "- true values compared to neural network predicted values for corresponding model inps"
   ]
  },
  {
   "cell_type": "code",
   "execution_count": 48,
   "id": "76134844-cd21-4f43-af97-8e5f50cf8ae7",
   "metadata": {},
   "outputs": [],
   "source": [
    "import tensorflow as tf\n",
    "import os\n",
    "os.environ['CUDA_VISIBLE_DEVICES'] = '-1'\n",
    "\n",
    "from pitchfuncs_v2 import WMSE\n",
    "from pitchfuncs_v2 import InversePCA\n",
    "from pitchfuncs_v2 import emulator\n",
    "from pitchfuncs_v2 import ns\n",
    "import pandas as pd\n",
    "import scipy\n",
    "import numpy as np\n",
    "import corner\n",
    "import time\n",
    "from scipy import constants\n",
    "import astropy.constants\n",
    "import pickle\n",
    "from matplotlib.pyplot import cm\n",
    "import matplotlib.pyplot as plt\n",
    "import json\n",
    "\n",
    "\n",
    "def calc_Teff(luminosity, radius):\n",
    "    return np.array(((luminosity.values*astropy.constants.L_sun) / (4*np.pi*constants.sigma*((radius.values*astropy.constants.R_sun)**2)))**0.25)\n",
    "\n",
    "def rescale_preds(preds, df, column):\n",
    "    if 'star_feh' in column:\n",
    "        return (preds[column+\"_std\"]*df[column].std())+df[column].mean()\n",
    "    else:\n",
    "        return 10**((preds[\"log_\"+column+\"_std\"]*df[\"log_\"+column].std())+df[\"log_\"+column].mean())\n"
   ]
  },
  {
   "cell_type": "code",
   "execution_count": 286,
   "id": "ecff4ebf-a648-4b4d-b111-c2be391f497d",
   "metadata": {},
   "outputs": [
    {
     "data": {
      "text/html": [
       "<div>\n",
       "<style scoped>\n",
       "    .dataframe tbody tr th:only-of-type {\n",
       "        vertical-align: middle;\n",
       "    }\n",
       "\n",
       "    .dataframe tbody tr th {\n",
       "        vertical-align: top;\n",
       "    }\n",
       "\n",
       "    .dataframe thead th {\n",
       "        text-align: right;\n",
       "    }\n",
       "</style>\n",
       "<table border=\"1\" class=\"dataframe\">\n",
       "  <thead>\n",
       "    <tr style=\"text-align: right;\">\n",
       "      <th></th>\n",
       "      <th>initial_mass</th>\n",
       "      <th>initial_Zinit</th>\n",
       "      <th>initial_Yinit</th>\n",
       "      <th>initial_MLT</th>\n",
       "      <th>star_age</th>\n",
       "      <th>radius</th>\n",
       "      <th>luminosity</th>\n",
       "      <th>effective_T</th>\n",
       "      <th>star_feh</th>\n",
       "      <th>nu_0_4</th>\n",
       "      <th>...</th>\n",
       "      <th>log_nu_0_32_std</th>\n",
       "      <th>log_nu_0_33_std</th>\n",
       "      <th>log_nu_0_34_std</th>\n",
       "      <th>log_nu_0_35_std</th>\n",
       "      <th>log_nu_0_36_std</th>\n",
       "      <th>log_nu_0_37_std</th>\n",
       "      <th>log_nu_0_38_std</th>\n",
       "      <th>log_nu_0_39_std</th>\n",
       "      <th>log_nu_0_40_std</th>\n",
       "      <th>log_calc_effective_T_std</th>\n",
       "    </tr>\n",
       "  </thead>\n",
       "  <tbody>\n",
       "    <tr>\n",
       "      <th>4098711</th>\n",
       "      <td>1</td>\n",
       "      <td>0.013508</td>\n",
       "      <td>0.24</td>\n",
       "      <td>1.9</td>\n",
       "      <td>4.605898</td>\n",
       "      <td>0.993668</td>\n",
       "      <td>0.904566</td>\n",
       "      <td>5650.91516</td>\n",
       "      <td>-0.0558</td>\n",
       "      <td>684.334509</td>\n",
       "      <td>...</td>\n",
       "      <td>0.727786</td>\n",
       "      <td>0.729035</td>\n",
       "      <td>0.730063</td>\n",
       "      <td>0.729626</td>\n",
       "      <td>0.730431</td>\n",
       "      <td>0.730403</td>\n",
       "      <td>0.729293</td>\n",
       "      <td>0.727165</td>\n",
       "      <td>0.724994</td>\n",
       "      <td>-0.345785</td>\n",
       "    </tr>\n",
       "  </tbody>\n",
       "</table>\n",
       "<p>1 rows × 186 columns</p>\n",
       "</div>"
      ],
      "text/plain": [
       "         initial_mass  initial_Zinit  initial_Yinit  initial_MLT  star_age  \\\n",
       "4098711             1       0.013508           0.24          1.9  4.605898   \n",
       "\n",
       "           radius  luminosity  effective_T  star_feh      nu_0_4  ...  \\\n",
       "4098711  0.993668    0.904566   5650.91516   -0.0558  684.334509  ...   \n",
       "\n",
       "         log_nu_0_32_std  log_nu_0_33_std  log_nu_0_34_std  log_nu_0_35_std  \\\n",
       "4098711         0.727786         0.729035         0.730063         0.729626   \n",
       "\n",
       "         log_nu_0_36_std  log_nu_0_37_std  log_nu_0_38_std  log_nu_0_39_std  \\\n",
       "4098711         0.730431         0.730403         0.729293         0.727165   \n",
       "\n",
       "         log_nu_0_40_std  log_calc_effective_T_std  \n",
       "4098711         0.724994                 -0.345785  \n",
       "\n",
       "[1 rows x 186 columns]"
      ]
     },
     "execution_count": 286,
     "metadata": {},
     "output_type": "execute_result"
    }
   ],
   "source": [
    "hare = pd.read_json(\"solar_hare2.json\")\n",
    "outputs = ['calc_effective_T', 'luminosity', 'star_feh'] + [f'nu_0_{i+1}' for i in range(5,40)]\n",
    "hare_true = hare[outputs]\n",
    "hare"
   ]
  },
  {
   "cell_type": "markdown",
   "id": "98c1bcb8-7a8d-4555-a725-6a7163ed79cb",
   "metadata": {},
   "source": [
    "## 1) true values from grid\n",
    "all freqs:"
   ]
  },
  {
   "cell_type": "code",
   "execution_count": 434,
   "id": "821f67db-8fd3-484a-ba28-47fa3daa9e1d",
   "metadata": {},
   "outputs": [],
   "source": [
    "def echelle_plot(model, dnu=0, n_min=6, n_max=40, x_scale=True,**kwargs):\n",
    "    freqs = model[[f'nu_0_{i}' for i in range(n_min,n_max+1)]]\n",
    "    \n",
    "    if dnu == 0:\n",
    "        dnu = np.median(freqs.values[0][1:]-freqs.values[0][:-1])\n",
    "\n",
    "    echelle_y = freqs.values[0]\n",
    "    echelle_x = freqs.values[0]%dnu\n",
    "    \n",
    "    plt.scatter(echelle_x, echelle_y, **kwargs)\n",
    "\n",
    "    if x_scale:\n",
    "        plt.xlim([0,dnu])\n",
    "\n",
    "    return dnu"
   ]
  },
  {
   "cell_type": "code",
   "execution_count": 436,
   "id": "96a26303-fee1-488e-9baf-a9e3fd10eaad",
   "metadata": {},
   "outputs": [
    {
     "data": {
      "text/plain": [
       "136.94605992130005"
      ]
     },
     "execution_count": 436,
     "metadata": {},
     "output_type": "execute_result"
    },
    {
     "data": {
      "image/png": "[encoded data removed]",
      "text/plain": [
       "<Figure size 800x800 with 1 Axes>"
      ]
     },
     "metadata": {},
     "output_type": "display_data"
    }
   ],
   "source": [
    "plt.figure(figsize=(8,8))\n",
    "echelle_plot(hare,marker='|', color='red', s=80, linewidth=3)"
   ]
  },
  {
   "cell_type": "markdown",
   "id": "4db6cd0b-5508-454b-a549-5d87abb4d3fe",
   "metadata": {},
   "source": [
    "radial orders 15-25:"
   ]
  },
  {
   "cell_type": "code",
   "execution_count": 439,
   "id": "ea9d858c-3400-43a1-b226-e5dc751f3a72",
   "metadata": {},
   "outputs": [
    {
     "data": {
      "text/plain": [
       "136.72688997670002"
      ]
     },
     "execution_count": 439,
     "metadata": {},
     "output_type": "execute_result"
    },
    {
     "data": {
      "image/png": "[encoded data removed]",
      "text/plain": [
       "<Figure size 800x800 with 1 Axes>"
      ]
     },
     "metadata": {},
     "output_type": "display_data"
    }
   ],
   "source": [
    "plt.figure(figsize=(8,8))\n",
    "echelle_plot(hare, n_min=15, n_max=25,marker='|', color='red', s=200, linewidth=3)"
   ]
  },
  {
   "cell_type": "markdown",
   "id": "045974c6-1609-4630-93c1-b057fd6f92ef",
   "metadata": {},
   "source": [
    "## 2) true compared to draws from obs noise"
   ]
  },
  {
   "cell_type": "code",
   "execution_count": 455,
   "id": "38bdf1a8-7ceb-4558-a674-2f0dd10ccc1a",
   "metadata": {},
   "outputs": [
    {
     "data": {
      "text/plain": [
       "array([7.0e+01, 2.0e-02, 1.0e-01, 9.0e-01, 8.5e-01, 8.0e-01, 7.5e-01,\n",
       "       7.0e-01, 6.5e-01, 6.0e-01, 5.5e-01, 5.0e-01, 4.5e-01, 4.0e-01,\n",
       "       3.5e-01, 3.0e-01, 2.5e-01, 2.0e-01, 1.5e-01, 1.0e-01, 5.0e-02,\n",
       "       1.0e-01, 1.5e-01, 2.0e-01, 2.5e-01, 3.0e-01, 3.5e-01, 4.0e-01,\n",
       "       4.5e-01, 5.0e-01, 5.5e-01, 6.0e-01, 6.5e-01, 7.0e-01, 7.5e-01,\n",
       "       8.0e-01, 8.5e-01, 9.0e-01])"
      ]
     },
     "execution_count": 455,
     "metadata": {},
     "output_type": "execute_result"
    }
   ],
   "source": [
    "teff_unc = 70 #K\n",
    "luminosity_unc = 0.02 #L\\odot\n",
    "surface_feh_unc = 0.1 #dex\n",
    "frequency_unc = 0.05 #\\muHz\n",
    "\n",
    "obs_unc = np.array([teff_unc, luminosity_unc, surface_feh_unc]+[frequency_unc + (0.05*np.abs(23-i)) for i in range(6,41)])\n",
    "obs_unc"
   ]
  },
  {
   "cell_type": "code",
   "execution_count": 456,
   "id": "0ac73a75-b6d5-4b4d-9636-bc90895e2744",
   "metadata": {},
   "outputs": [
    {
     "data": {
      "text/html": [
       "<div>\n",
       "<style scoped>\n",
       "    .dataframe tbody tr th:only-of-type {\n",
       "        vertical-align: middle;\n",
       "    }\n",
       "\n",
       "    .dataframe tbody tr th {\n",
       "        vertical-align: top;\n",
       "    }\n",
       "\n",
       "    .dataframe thead th {\n",
       "        text-align: right;\n",
       "    }\n",
       "</style>\n",
       "<table border=\"1\" class=\"dataframe\">\n",
       "  <thead>\n",
       "    <tr style=\"text-align: right;\">\n",
       "      <th></th>\n",
       "      <th>calc_effective_T</th>\n",
       "      <th>luminosity</th>\n",
       "      <th>star_feh</th>\n",
       "      <th>nu_0_6</th>\n",
       "      <th>nu_0_7</th>\n",
       "      <th>nu_0_8</th>\n",
       "      <th>nu_0_9</th>\n",
       "      <th>nu_0_10</th>\n",
       "      <th>nu_0_11</th>\n",
       "      <th>nu_0_12</th>\n",
       "      <th>...</th>\n",
       "      <th>nu_0_31</th>\n",
       "      <th>nu_0_32</th>\n",
       "      <th>nu_0_33</th>\n",
       "      <th>nu_0_34</th>\n",
       "      <th>nu_0_35</th>\n",
       "      <th>nu_0_36</th>\n",
       "      <th>nu_0_37</th>\n",
       "      <th>nu_0_38</th>\n",
       "      <th>nu_0_39</th>\n",
       "      <th>nu_0_40</th>\n",
       "    </tr>\n",
       "  </thead>\n",
       "  <tbody>\n",
       "    <tr>\n",
       "      <th>0</th>\n",
       "      <td>5597.108749</td>\n",
       "      <td>0.890318</td>\n",
       "      <td>-0.127039</td>\n",
       "      <td>979.440876</td>\n",
       "      <td>1126.021429</td>\n",
       "      <td>1273.163698</td>\n",
       "      <td>1417.831498</td>\n",
       "      <td>1559.978505</td>\n",
       "      <td>1699.101401</td>\n",
       "      <td>1835.488672</td>\n",
       "      <td>...</td>\n",
       "      <td>4443.378562</td>\n",
       "      <td>4581.850644</td>\n",
       "      <td>4719.991918</td>\n",
       "      <td>4856.68981</td>\n",
       "      <td>4988.994716</td>\n",
       "      <td>5123.167119</td>\n",
       "      <td>5254.525632</td>\n",
       "      <td>5382.596067</td>\n",
       "      <td>5507.759585</td>\n",
       "      <td>5632.825318</td>\n",
       "    </tr>\n",
       "  </tbody>\n",
       "</table>\n",
       "<p>1 rows × 38 columns</p>\n",
       "</div>"
      ],
      "text/plain": [
       "   calc_effective_T  luminosity  star_feh      nu_0_6       nu_0_7  \\\n",
       "0       5597.108749    0.890318 -0.127039  979.440876  1126.021429   \n",
       "\n",
       "        nu_0_8       nu_0_9      nu_0_10      nu_0_11      nu_0_12  ...  \\\n",
       "0  1273.163698  1417.831498  1559.978505  1699.101401  1835.488672  ...   \n",
       "\n",
       "       nu_0_31      nu_0_32      nu_0_33     nu_0_34      nu_0_35  \\\n",
       "0  4443.378562  4581.850644  4719.991918  4856.68981  4988.994716   \n",
       "\n",
       "       nu_0_36      nu_0_37      nu_0_38      nu_0_39      nu_0_40  \n",
       "0  5123.167119  5254.525632  5382.596067  5507.759585  5632.825318  \n",
       "\n",
       "[1 rows x 38 columns]"
      ]
     },
     "execution_count": 456,
     "metadata": {},
     "output_type": "execute_result"
    }
   ],
   "source": [
    "def obs_noise(true, unc, seed=42):\n",
    "    noisy_obs = np.empty(len(true))\n",
    "    idx = 0\n",
    "    for ob in true:\n",
    "        noisy_obs[idx] = scipy.stats.norm(loc=ob, scale=unc[idx]).rvs(random_state=seed)\n",
    "        idx+=1\n",
    "\n",
    "    return noisy_obs\n",
    "\n",
    "hare_obs = dict(zip(outputs,obs_noise(hare_true.values[0],obs_unc, seed=13)))\n",
    "hare_obs = pd.DataFrame.from_dict([hare_obs])\n",
    "hare_obs"
   ]
  },
  {
   "cell_type": "code",
   "execution_count": 457,
   "id": "31235c3c-95a6-4af4-9a54-fff107f907c5",
   "metadata": {},
   "outputs": [
    {
     "data": {
      "text/plain": [
       "136.94605992130005"
      ]
     },
     "execution_count": 457,
     "metadata": {},
     "output_type": "execute_result"
    },
    {
     "data": {
      "image/png": "[encoded data removed]",
      "text/plain": [
       "<Figure size 800x800 with 1 Axes>"
      ]
     },
     "metadata": {},
     "output_type": "display_data"
    }
   ],
   "source": [
    "hare_obs = dict(zip(outputs,obs_noise(hare_true.values[0],obs_unc, seed=42)))\n",
    "hare_obs = pd.DataFrame.from_dict([hare_obs])\n",
    "\n",
    "plt.figure(figsize=(8,8))\n",
    "dnu = echelle_plot(hare,marker='|', color='red', s=80, linewidth=3)\n",
    "\n",
    "seeds = list(np.arange(1,100,1))\n",
    "for seed in seeds:\n",
    "    hare_obs = dict(zip(outputs,obs_noise(hare_true.values[0],obs_unc, seed=seed)))\n",
    "    hare_obs = pd.DataFrame.from_dict([hare_obs])\n",
    "    echelle_plot(hare_obs, dnu=dnu, marker='|',color='blue', s=80, linewidth=3,alpha=0.05, x_scale=False)\n",
    "\n",
    "echelle_plot(hare,marker='|', color='red', s=80, linewidth=3)"
   ]
  },
  {
   "cell_type": "code",
   "execution_count": 471,
   "id": "c845f06e-6ec6-4b40-a5bb-79c8112f136a",
   "metadata": {},
   "outputs": [
    {
     "data": {
      "text/plain": [
       "136.72688997670002"
      ]
     },
     "execution_count": 471,
     "metadata": {},
     "output_type": "execute_result"
    },
    {
     "data": {
      "image/png": "[encoded data removed]",
      "text/plain": [
       "<Figure size 800x800 with 1 Axes>"
      ]
     },
     "metadata": {},
     "output_type": "display_data"
    }
   ],
   "source": [
    "hare_obs = dict(zip(outputs,obs_noise(hare_true.values[0],obs_unc, seed=42)))\n",
    "hare_obs = pd.DataFrame.from_dict([hare_obs])\n",
    "\n",
    "plt.figure(figsize=(8,8))\n",
    "dnu = echelle_plot(hare, n_min=15, n_max=25, marker='|', color='red', s=200, linewidth=2)\n",
    "\n",
    "seeds = list(np.arange(1,100,1))\n",
    "for seed in seeds:\n",
    "    hare_obs = dict(zip(outputs,obs_noise(hare_true.values[0],obs_unc, seed=seed)))\n",
    "    hare_obs = pd.DataFrame.from_dict([hare_obs])\n",
    "    echelle_plot(hare_obs, n_min=15, n_max=25, dnu=dnu, marker='|',color='blue', s=200, linewidth=2,alpha=0.05, x_scale=False)\n",
    "\n",
    "echelle_plot(hare, n_min=15, n_max=25,marker='|', color='red', s=200, linewidth=2)"
   ]
  },
  {
   "cell_type": "markdown",
   "id": "45cd3abe-0557-4740-9697-249127ab471d",
   "metadata": {},
   "source": [
    "## 2) true compared to predicted"
   ]
  },
  {
   "cell_type": "code",
   "execution_count": 472,
   "id": "0be2132f-d11a-4f08-94f2-d77065367c2a",
   "metadata": {},
   "outputs": [
    {
     "name": "stdout",
     "output_type": "stream",
     "text": [
      "initial_mass range: [min = 0.8, max = 1.2]\n",
      "initial_Zinit range: [min = 0.003869061466818601, max = 0.0389797119014747]\n",
      "initial_Yinit range: [min = 0.24, max = 0.32]\n",
      "initial_MLT range: [min = 1.7, max = 2.5]\n",
      "star_age range: [min = 0.029664111540787196, max = 13.999973871651315]\n"
     ]
    }
   ],
   "source": [
    "pitchfork_name = \"nu6-40_elu_nonorm_feh\"\n",
    "pitchfork = emulator(pitchfork_name)\n",
    "\n",
    "with open(\"pickle jar/\" +pitchfork_name+ \".pkl\", 'rb') as fp:\n",
    "     pitchfork_info = pickle.load(fp)\n",
    "\n",
    "pitchfork_ranges = pitchfork_info['parameter_ranges']"
   ]
  },
  {
   "cell_type": "code",
   "execution_count": 473,
   "id": "b7099e39-b808-4c47-ba5d-787272d4862b",
   "metadata": {},
   "outputs": [
    {
     "data": {
      "text/html": [
       "<div>\n",
       "<style scoped>\n",
       "    .dataframe tbody tr th:only-of-type {\n",
       "        vertical-align: middle;\n",
       "    }\n",
       "\n",
       "    .dataframe tbody tr th {\n",
       "        vertical-align: top;\n",
       "    }\n",
       "\n",
       "    .dataframe thead th {\n",
       "        text-align: right;\n",
       "    }\n",
       "</style>\n",
       "<table border=\"1\" class=\"dataframe\">\n",
       "  <thead>\n",
       "    <tr style=\"text-align: right;\">\n",
       "      <th></th>\n",
       "      <th>calc_effective_T</th>\n",
       "      <th>luminosity</th>\n",
       "      <th>star_feh</th>\n",
       "      <th>nu_0_6</th>\n",
       "      <th>nu_0_7</th>\n",
       "      <th>nu_0_8</th>\n",
       "      <th>nu_0_9</th>\n",
       "      <th>nu_0_10</th>\n",
       "      <th>nu_0_11</th>\n",
       "      <th>nu_0_12</th>\n",
       "      <th>...</th>\n",
       "      <th>nu_0_31</th>\n",
       "      <th>nu_0_32</th>\n",
       "      <th>nu_0_33</th>\n",
       "      <th>nu_0_34</th>\n",
       "      <th>nu_0_35</th>\n",
       "      <th>nu_0_36</th>\n",
       "      <th>nu_0_37</th>\n",
       "      <th>nu_0_38</th>\n",
       "      <th>nu_0_39</th>\n",
       "      <th>nu_0_40</th>\n",
       "    </tr>\n",
       "  </thead>\n",
       "  <tbody>\n",
       "    <tr>\n",
       "      <th>0</th>\n",
       "      <td>5647.236897</td>\n",
       "      <td>0.905399</td>\n",
       "      <td>-0.056037</td>\n",
       "      <td>979.864067</td>\n",
       "      <td>1127.209941</td>\n",
       "      <td>1273.219439</td>\n",
       "      <td>1418.539757</td>\n",
       "      <td>1560.881564</td>\n",
       "      <td>1699.397448</td>\n",
       "      <td>1836.024068</td>\n",
       "      <td>...</td>\n",
       "      <td>4444.763172</td>\n",
       "      <td>4582.977977</td>\n",
       "      <td>4719.796498</td>\n",
       "      <td>4855.718949</td>\n",
       "      <td>4990.931738</td>\n",
       "      <td>5124.595272</td>\n",
       "      <td>5255.34052</td>\n",
       "      <td>5382.762103</td>\n",
       "      <td>5508.240146</td>\n",
       "      <td>5634.056735</td>\n",
       "    </tr>\n",
       "  </tbody>\n",
       "</table>\n",
       "<p>1 rows × 38 columns</p>\n",
       "</div>"
      ],
      "text/plain": [
       "   calc_effective_T  luminosity  star_feh      nu_0_6       nu_0_7  \\\n",
       "0       5647.236897    0.905399 -0.056037  979.864067  1127.209941   \n",
       "\n",
       "        nu_0_8       nu_0_9      nu_0_10      nu_0_11      nu_0_12  ...  \\\n",
       "0  1273.219439  1418.539757  1560.881564  1699.397448  1836.024068  ...   \n",
       "\n",
       "       nu_0_31      nu_0_32      nu_0_33      nu_0_34      nu_0_35  \\\n",
       "0  4444.763172  4582.977977  4719.796498  4855.718949  4990.931738   \n",
       "\n",
       "       nu_0_36     nu_0_37      nu_0_38      nu_0_39      nu_0_40  \n",
       "0  5124.595272  5255.34052  5382.762103  5508.240146  5634.056735  \n",
       "\n",
       "[1 rows x 38 columns]"
      ]
     },
     "execution_count": 473,
     "metadata": {},
     "output_type": "execute_result"
    }
   ],
   "source": [
    "inputs = ['initial_mass', 'initial_Zinit', 'initial_Yinit', 'initial_MLT', 'star_age']\n",
    "hare_inps = hare[inputs]\n",
    "\n",
    "hare_preds = pitchfork.predict([hare_inps.values[0]])\n",
    "\n",
    "hare_preds = dict(zip(outputs,hare_preds[0]))\n",
    "hare_preds = pd.DataFrame.from_dict([hare_preds])\n",
    "hare_preds"
   ]
  },
  {
   "cell_type": "code",
   "execution_count": 474,
   "id": "0a059f4d-1802-4a20-b450-b4679d50b258",
   "metadata": {},
   "outputs": [
    {
     "data": {
      "text/plain": [
       "136.94605992130005"
      ]
     },
     "execution_count": 474,
     "metadata": {},
     "output_type": "execute_result"
    },
    {
     "data": {
      "image/png": "[encoded data removed]",
      "text/plain": [
       "<Figure size 800x800 with 1 Axes>"
      ]
     },
     "metadata": {},
     "output_type": "display_data"
    }
   ],
   "source": [
    "plt.figure(figsize=(8,8))\n",
    "dnu = echelle_plot(hare,marker='|', color='red', s=80, linewidth=3)\n",
    "echelle_plot(hare_preds,dnu=dnu,marker='|', color='blue', s=80, linewidth=3)"
   ]
  },
  {
   "cell_type": "code",
   "execution_count": 475,
   "id": "5472684f-c2d0-426c-a6b0-aa49dcbcdb23",
   "metadata": {},
   "outputs": [
    {
     "data": {
      "text/plain": [
       "136.72688997670002"
      ]
     },
     "execution_count": 475,
     "metadata": {},
     "output_type": "execute_result"
    },
    {
     "data": {
      "image/png": "[encoded data removed]",
      "text/plain": [
       "<Figure size 800x800 with 1 Axes>"
      ]
     },
     "metadata": {},
     "output_type": "display_data"
    }
   ],
   "source": [
    "plt.figure(figsize=(8,8))\n",
    "dnu = echelle_plot(hare,n_min=15, n_max=25,marker='|', color='red', s=200, linewidth=2)\n",
    "echelle_plot(hare_preds,dnu=dnu,n_min=15, n_max=25, marker='|', color='blue', s=200, linewidth=2)"
   ]
  },
  {
   "cell_type": "code",
   "execution_count": null,
   "id": "25114e27-258f-40c8-a3a3-beec678b270c",
   "metadata": {},
   "outputs": [],
   "source": []
  }
 ],
 "metadata": {
  "kernelspec": {
   "display_name": "Python 3 (ipykernel)",
   "language": "python",
   "name": "python3"
  },
  "language_info": {
   "codemirror_mode": {
    "name": "ipython",
    "version": 3
   },
   "file_extension": ".py",
   "mimetype": "text/x-python",
   "name": "python",
   "nbconvert_exporter": "python",
   "pygments_lexer": "ipython3",
   "version": "3.9.18"
  }
 },
 "nbformat": 4,
 "nbformat_minor": 5
}
