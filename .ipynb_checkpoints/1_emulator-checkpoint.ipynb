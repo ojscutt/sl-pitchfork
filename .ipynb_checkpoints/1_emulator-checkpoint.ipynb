{
 "cells": [
  {
   "cell_type": "markdown",
   "id": "213610ba-64db-453b-9be6-e6646b00e246",
   "metadata": {},
   "source": [
    "# 1_emulator\n",
    "notebook for loading in a trained emulator, incuding the .json file with custom_object variables and data scaling values.\\\n",
    "Emulator .model and .json are stored in files in the repo."
   ]
  },
  {
   "cell_type": "code",
   "execution_count": 1,
   "id": "a29cfbd7-fa05-4d16-aab3-49c2b8f8fade",
   "metadata": {},
   "outputs": [
    {
     "name": "stderr",
     "output_type": "stream",
     "text": [
      "2024-03-19 11:00:44.629714: E external/local_xla/xla/stream_executor/cuda/cuda_dnn.cc:9261] Unable to register cuDNN factory: Attempting to register factory for plugin cuDNN when one has already been registered\n",
      "2024-03-19 11:00:44.629747: E external/local_xla/xla/stream_executor/cuda/cuda_fft.cc:607] Unable to register cuFFT factory: Attempting to register factory for plugin cuFFT when one has already been registered\n",
      "2024-03-19 11:00:44.630742: E external/local_xla/xla/stream_executor/cuda/cuda_blas.cc:1515] Unable to register cuBLAS factory: Attempting to register factory for plugin cuBLAS when one has already been registered\n",
      "2024-03-19 11:00:44.635733: I tensorflow/core/platform/cpu_feature_guard.cc:182] This TensorFlow binary is optimized to use available CPU instructions in performance-critical operations.\n",
      "To enable the following instructions: AVX2 FMA, in other operations, rebuild TensorFlow with the appropriate compiler flags.\n",
      "2024-03-19 11:00:45.200627: W tensorflow/compiler/tf2tensorrt/utils/py_utils.cc:38] TF-TRT Warning: Could not find TensorRT\n"
     ]
    },
    {
     "name": "stdout",
     "output_type": "stream",
     "text": [
      "Current GPU usage:\n",
      " - GPU0: 0B\n",
      "\n"
     ]
    },
    {
     "name": "stderr",
     "output_type": "stream",
     "text": [
      "2024-03-19 11:00:45.739326: I tensorflow/core/common_runtime/gpu/gpu_device.cc:1929] Created device /job:localhost/replica:0/task:0/device:GPU:0 with 17959 MB memory:  -> device: 0, name: NVIDIA RTX A4500, pci bus id: 0000:41:00.0, compute capability: 8.6\n"
     ]
    }
   ],
   "source": [
    "#### misc\n",
    "import pandas as pd\n",
    "import numpy as np\n",
    "import os\n",
    "from pathlib import Path\n",
    "import pickle\n",
    "import time\n",
    "from itertools import product\n",
    "from scipy import constants\n",
    "from scipy import stats\n",
    "import random\n",
    "import astropy.constants\n",
    "from numpy.random import default_rng\n",
    "import pickle\n",
    "\n",
    "#### graphical\n",
    "import matplotlib.pyplot as plt\n",
    "\n",
    "#### ML\n",
    "import sklearn\n",
    "from sklearn.decomposition import PCA\n",
    "import tensorflow as tf\n",
    "import keras\n",
    "from keras import layers\n",
    "\n",
    "#### custom\n",
    "from InversePCA import InversePCA\n",
    "from WMSE import WMSE, WMSE_metric\n",
    "\n",
    "##### poke gpu\n",
    "os.environ[\"CUDA_VISIBLE_DEVICES\"]=\"0\"\n",
    "\n",
    "physical_devices = tf.config.list_physical_devices(\"GPU\") \n",
    "\n",
    "gpu0usage = tf.config.experimental.get_memory_info(\"GPU:0\")[\"current\"]\n",
    "\n",
    "print(\"Current GPU usage:\\n\"\n",
    "     + \" - GPU0: \" + str(gpu0usage) + \"B\\n\")"
   ]
  },
  {
   "cell_type": "markdown",
   "id": "83dcf3b2-3a10-491d-ab7a-59ea33d79f01",
   "metadata": {},
   "source": [
    "# 1) Specify emulator name\n",
    "if file structure has been organised properly, just the name should find the emulator and unpack the relevant .json and .model files"
   ]
  },
  {
   "cell_type": "code",
   "execution_count": 2,
   "id": "11574daa-38a0-49b1-b75a-542fc90cd2cf",
   "metadata": {},
   "outputs": [],
   "source": [
    "pitchfork_name = \"nu6-40\""
   ]
  },
  {
   "cell_type": "markdown",
   "id": "b6ed9e32-26ab-4fe7-9d24-4fd151c1ed35",
   "metadata": {},
   "source": [
    "# 2) Unpickle emulator dict\n",
    "Unpack .json, print architecture and emulator parameter ranges"
   ]
  },
  {
   "cell_type": "code",
   "execution_count": 3,
   "id": "d92cd00e-dc72-4ca9-8035-4ba6ad4cde2a",
   "metadata": {},
   "outputs": [],
   "source": [
    "file_path = \"pickle jar/\"+pitchfork_name\n",
    "\n",
    "with open(file_path+\".pkl\", 'rb') as fp:\n",
    "     emulator_dict = pickle.load(fp)"
   ]
  },
  {
   "cell_type": "markdown",
   "id": "d01ba132-72f0-4c00-b858-2b25d07980b0",
   "metadata": {},
   "source": [
    "# 3) Load in emulator with custom objects\n",
    "Loading in the emulator from keras .model file using custom objects from dict"
   ]
  },
  {
   "cell_type": "code",
   "execution_count": 4,
   "id": "dbc682a5-97b3-4c4a-ae9f-82bdd3cb65d4",
   "metadata": {},
   "outputs": [],
   "source": [
    "custom_objects = {\"InversePCA\": InversePCA(emulator_dict['custom_objects']['inverse_pca']['pca_comps'], emulator_dict['custom_objects']['inverse_pca']['pca_mean']),\"WMSE\": WMSE(emulator_dict['custom_objects']['WMSE']['weights'])}\n",
    "\n",
    "model = tf.keras.models.load_model(file_path+\".h5\", custom_objects=custom_objects)"
   ]
  },
  {
   "cell_type": "markdown",
   "id": "001e4abd-f78b-42c2-bfcd-60aec6c2e3ff",
   "metadata": {},
   "source": [
    "# 4) print emulator parameter ranges\n",
    "use the saved ranges from the pickled dict to print out reasonable parameter ranges for network to query"
   ]
  },
  {
   "cell_type": "code",
   "execution_count": 5,
   "id": "3e2a313c-887b-4624-9b57-9f39772f5e30",
   "metadata": {},
   "outputs": [
    {
     "name": "stdout",
     "output_type": "stream",
     "text": [
      "initial_mass range: [min = 0.8, max = 1.2]\n",
      "initial_Zinit range: [min = 0.003869061466818601, max = 0.0389797119014747]\n",
      "initial_Yinit range: [min = 0.24, max = 0.32]\n",
      "initial_MLT range: [min = 1.7, max = 2.5]\n",
      "star_age range: [min = 0.029664111540787196, max = 13.999973871651315]\n"
     ]
    }
   ],
   "source": [
    "[print(str(key).replace(\"log_\",\"\") + \" range: \" + \"[min = \" + str(emulator_dict['parameter_ranges'][key][\"min\"]) + \", max = \" + str(emulator_dict['parameter_ranges'][key][\"max\"]) + \"]\") for key in emulator_dict['parameter_ranges'].keys()]; "
   ]
  },
  {
   "cell_type": "markdown",
   "id": "f57d5796-05be-4600-9e8d-9be1e7603e05",
   "metadata": {},
   "source": [
    "# 5) test predictions\n",
    "Nice!"
   ]
  },
  {
   "cell_type": "code",
   "execution_count": 6,
   "id": "7eafbdac-d953-4e02-9a50-6eaa333994b3",
   "metadata": {},
   "outputs": [
    {
     "name": "stderr",
     "output_type": "stream",
     "text": [
      "2024-03-19 11:01:15.944503: I external/local_tsl/tsl/platform/default/subprocess.cc:304] Start cannot spawn child process: No such file or directory\n",
      "2024-03-19 11:01:16.021342: I external/local_xla/xla/stream_executor/cuda/cuda_dnn.cc:454] Loaded cuDNN version 8904\n"
     ]
    },
    {
     "data": {
      "text/plain": [
       "[<tf.Tensor: shape=(1, 3), dtype=float32, numpy=array([[-0.4059231, -0.1889165, -0.0265745]], dtype=float32)>,\n",
       " <tf.Tensor: shape=(1, 35), dtype=float32, numpy=\n",
       " array([[0.43196377, 0.4347581 , 0.43773463, 0.43961442, 0.4397998 ,\n",
       "         0.43835348, 0.43669775, 0.43626782, 0.43661922, 0.43650085,\n",
       "         0.43560123, 0.43461916, 0.43424672, 0.4344684 , 0.43484232,\n",
       "         0.4350686 , 0.4350985 , 0.43507016, 0.43509513, 0.43519545,\n",
       "         0.4354824 , 0.43614548, 0.437058  , 0.4378288 , 0.43826604,\n",
       "         0.4385652 , 0.4389439 , 0.43932095, 0.43933064, 0.43855643,\n",
       "         0.4368676 , 0.43458012, 0.43230602, 0.43061897, 0.4298179 ]],\n",
       "       dtype=float32)>]"
      ]
     },
     "execution_count": 6,
     "metadata": {},
     "output_type": "execute_result"
    }
   ],
   "source": [
    "model(np.array([[0, 0, 0, 0, 0]]))"
   ]
  },
  {
   "cell_type": "markdown",
   "id": "183719db-ee6f-4052-83f8-07b1a4dc1b82",
   "metadata": {},
   "source": [
    "# 6) Rescale using pickled parameters"
   ]
  },
  {
   "cell_type": "code",
   "execution_count": 7,
   "id": "fa437ac7-a364-42f4-b790-8c2758225b03",
   "metadata": {},
   "outputs": [],
   "source": [
    "class emulator:\n",
    "    import InversePCA\n",
    "    import WMSE\n",
    "    def __init__(self, emulator_name):\n",
    "        self.emulator_name = emulator_name\n",
    "        self.file_path = \"pickle jar/\"+ self.emulator_name\n",
    "\n",
    "        with open(self.file_path+\".pkl\", 'rb') as fp:\n",
    "             self.emulator_dict = pickle.load(fp)\n",
    "            \n",
    "        self.custom_objects = {\"InversePCA\": InversePCA(self.emulator_dict['custom_objects']['inverse_pca']['pca_comps'], self.emulator_dict['custom_objects']['inverse_pca']['pca_mean']),\"WMSE\": WMSE(self.emulator_dict['custom_objects']['WMSE']['weights'])}\n",
    "\n",
    "        self.model = tf.keras.models.load_model(self.file_path+\".h5\", custom_objects=custom_objects)\n",
    "\n",
    "        [print(str(key).replace(\"log_\",\"\") + \" range: \" + \"[min = \" + str(self.emulator_dict['parameter_ranges'][key][\"min\"]) + \", max = \" + str(self.emulator_dict['parameter_ranges'][key][\"max\"]) + \"]\") for key in self.emulator_dict['parameter_ranges'].keys()];\n",
    "\n",
    "    def predict(self, input_data,verbose=False):\n",
    "        log_inputs_mean = np.array(self.emulator_dict[\"data_scaling\"][\"inp_mean\"][0])\n",
    "        \n",
    "        log_inputs_std = np.array(self.emulator_dict[\"data_scaling\"][\"inp_std\"][0])\n",
    "\n",
    "        log_outputs_mean = np.array(self.emulator_dict[\"data_scaling\"][\"classical_out_mean\"][0] + self.emulator_dict[\"data_scaling\"][\"astero_out_mean\"][0])\n",
    "        \n",
    "        log_outputs_std = np.array(self.emulator_dict[\"data_scaling\"][\"classical_out_std\"][0] + self.emulator_dict[\"data_scaling\"][\"astero_out_std\"][0])\n",
    "        \n",
    "        log_inputs = np.log10(input_data)\n",
    "        \n",
    "        standardised_log_inputs = (log_inputs - log_inputs_mean)/log_inputs_std\n",
    "\n",
    "        standardised_log_outputs = self.model.predict(standardised_log_inputs, verbose=verbose)\n",
    "\n",
    "        standardised_log_outputs = np.concatenate((np.array(standardised_log_outputs[0]),np.array(standardised_log_outputs[1])), axis=1)\n",
    "\n",
    "        log_outputs = (standardised_log_outputs*log_outputs_std) + log_outputs_mean\n",
    "\n",
    "        outputs = 10**log_outputs\n",
    "\n",
    "        return outputs"
   ]
  },
  {
   "cell_type": "code",
   "execution_count": 8,
   "id": "dd0fd41e-ac57-4cc8-8ac4-b8abce3d2c60",
   "metadata": {},
   "outputs": [
    {
     "name": "stdout",
     "output_type": "stream",
     "text": [
      "initial_mass range: [min = 0.8, max = 1.2]\n",
      "initial_Zinit range: [min = 0.003869061466818601, max = 0.0389797119014747]\n",
      "initial_Yinit range: [min = 0.24, max = 0.32]\n",
      "initial_MLT range: [min = 1.7, max = 2.5]\n",
      "star_age range: [min = 0.029664111540787196, max = 13.999973871651315]\n"
     ]
    }
   ],
   "source": [
    "pitchfork = emulator(\"nu6-40\")"
   ]
  },
  {
   "cell_type": "code",
   "execution_count": 9,
   "id": "cfcc5bcf-d67a-4c6a-8419-d831bb98e362",
   "metadata": {},
   "outputs": [
    {
     "name": "stdout",
     "output_type": "stream",
     "text": [
      "1/1 [==============================] - 0s 470ms/step\n"
     ]
    },
    {
     "data": {
      "text/plain": [
       "array([[1.34286002e+00, 1.52817385e+00, 6.77941480e-02, 3.48856600e+02,\n",
       "        3.93594907e+02, 4.35992832e+02, 4.82244537e+02, 5.30866788e+02,\n",
       "        5.77488251e+02, 6.22042342e+02, 6.67088072e+02, 7.13487222e+02,\n",
       "        7.60516769e+02, 8.07659381e+02, 8.54908502e+02, 9.02329602e+02,\n",
       "        9.49782338e+02, 9.97018083e+02, 1.04386924e+03, 1.09000968e+03,\n",
       "        1.13529594e+03, 1.17962368e+03, 1.22246570e+03, 1.26360286e+03,\n",
       "        1.30400624e+03, 1.34541641e+03, 1.38898617e+03, 1.43475826e+03,\n",
       "        1.48205131e+03, 1.52990752e+03, 1.57772108e+03, 1.62535408e+03,\n",
       "        1.67281671e+03, 1.71999240e+03, 1.76664045e+03, 1.81272295e+03,\n",
       "        1.85860636e+03, 1.90473949e+03]])"
      ]
     },
     "execution_count": 9,
     "metadata": {},
     "output_type": "execute_result"
    }
   ],
   "source": [
    "pitchfork.predict(np.array([[1, 0.2, 0.3, 2, 8]]))"
   ]
  },
  {
   "cell_type": "markdown",
   "id": "c6a062a9-6eae-4170-866a-1a5fb3eaeb2c",
   "metadata": {},
   "source": [
    "# 7) Test data\n",
    "Let's try with some test data from our test set (should be in h5 file)"
   ]
  },
  {
   "cell_type": "code",
   "execution_count": 10,
   "id": "857c0a64-f50b-4b55-a6f8-0a7de2a1dc87",
   "metadata": {},
   "outputs": [
    {
     "data": {
      "text/html": [
       "<div>\n",
       "<style scoped>\n",
       "    .dataframe tbody tr th:only-of-type {\n",
       "        vertical-align: middle;\n",
       "    }\n",
       "\n",
       "    .dataframe tbody tr th {\n",
       "        vertical-align: top;\n",
       "    }\n",
       "\n",
       "    .dataframe thead th {\n",
       "        text-align: right;\n",
       "    }\n",
       "</style>\n",
       "<table border=\"1\" class=\"dataframe\">\n",
       "  <thead>\n",
       "    <tr style=\"text-align: right;\">\n",
       "      <th></th>\n",
       "      <th>initial_mass</th>\n",
       "      <th>initial_Zinit</th>\n",
       "      <th>initial_Yinit</th>\n",
       "      <th>initial_MLT</th>\n",
       "      <th>star_age</th>\n",
       "      <th>radius</th>\n",
       "      <th>luminosity</th>\n",
       "      <th>effective_T</th>\n",
       "      <th>surface_Z</th>\n",
       "      <th>nu_0_4</th>\n",
       "      <th>...</th>\n",
       "      <th>log_nu_0_31_std</th>\n",
       "      <th>log_nu_0_32_std</th>\n",
       "      <th>log_nu_0_33_std</th>\n",
       "      <th>log_nu_0_34_std</th>\n",
       "      <th>log_nu_0_35_std</th>\n",
       "      <th>log_nu_0_36_std</th>\n",
       "      <th>log_nu_0_37_std</th>\n",
       "      <th>log_nu_0_38_std</th>\n",
       "      <th>log_nu_0_39_std</th>\n",
       "      <th>log_nu_0_40_std</th>\n",
       "    </tr>\n",
       "  </thead>\n",
       "  <tbody>\n",
       "    <tr>\n",
       "      <th>6746657</th>\n",
       "      <td>1.14</td>\n",
       "      <td>0.033051</td>\n",
       "      <td>0.24</td>\n",
       "      <td>1.7</td>\n",
       "      <td>13.780274</td>\n",
       "      <td>2.450039</td>\n",
       "      <td>2.236969</td>\n",
       "      <td>4512.923194</td>\n",
       "      <td>0.033052</td>\n",
       "      <td>195.49982</td>\n",
       "      <td>...</td>\n",
       "      <td>-2.066485</td>\n",
       "      <td>-2.067119</td>\n",
       "      <td>-2.066172</td>\n",
       "      <td>-2.064825</td>\n",
       "      <td>-2.063516</td>\n",
       "      <td>-2.062535</td>\n",
       "      <td>-2.062093</td>\n",
       "      <td>-2.062135</td>\n",
       "      <td>-2.062709</td>\n",
       "      <td>-2.06369</td>\n",
       "    </tr>\n",
       "  </tbody>\n",
       "</table>\n",
       "<p>1 rows × 184 columns</p>\n",
       "</div>"
      ],
      "text/plain": [
       "         initial_mass  initial_Zinit  initial_Yinit  initial_MLT   star_age  \\\n",
       "6746657          1.14       0.033051           0.24          1.7  13.780274   \n",
       "\n",
       "           radius  luminosity  effective_T  surface_Z     nu_0_4  ...  \\\n",
       "6746657  2.450039    2.236969  4512.923194   0.033052  195.49982  ...   \n",
       "\n",
       "         log_nu_0_31_std  log_nu_0_32_std  log_nu_0_33_std  log_nu_0_34_std  \\\n",
       "6746657        -2.066485        -2.067119        -2.066172        -2.064825   \n",
       "\n",
       "         log_nu_0_35_std  log_nu_0_36_std  log_nu_0_37_std  log_nu_0_38_std  \\\n",
       "6746657        -2.063516        -2.062535        -2.062093        -2.062135   \n",
       "\n",
       "         log_nu_0_39_std  log_nu_0_40_std  \n",
       "6746657        -2.062709         -2.06369  \n",
       "\n",
       "[1 rows x 184 columns]"
      ]
     },
     "execution_count": 10,
     "metadata": {},
     "output_type": "execute_result"
    }
   ],
   "source": [
    "df_test = pd.read_hdf('/home/oxs235/repos/ojscutt/sl-pitchfork/test_data.h5', key='df')\n",
    "\n",
    "test_point = df_test.sample(n=1)\n",
    "test_point"
   ]
  },
  {
   "cell_type": "code",
   "execution_count": 11,
   "id": "f6b4e1e4-69af-47e4-9844-9f6eb5d6b8f5",
   "metadata": {},
   "outputs": [
    {
     "data": {
      "text/plain": [
       "array([[ 1.14      ,  0.03305085,  0.24      ,  1.7       , 13.78027403]])"
      ]
     },
     "execution_count": 11,
     "metadata": {},
     "output_type": "execute_result"
    }
   ],
   "source": [
    "test_inputs = test_point[['initial_mass', 'initial_Zinit', 'initial_Yinit', 'initial_MLT', 'star_age']]\n",
    "\n",
    "test_inputs.values"
   ]
  },
  {
   "cell_type": "code",
   "execution_count": 12,
   "id": "445834d6-db23-48e6-9563-ee095166a5f2",
   "metadata": {},
   "outputs": [
    {
     "name": "stdout",
     "output_type": "stream",
     "text": [
      "1/1 [==============================] - 0s 20ms/step\n"
     ]
    },
    {
     "data": {
      "text/plain": [
       "array([[2.45107195e+00, 2.23293445e+00, 3.31427409e-02, 2.78649606e+02,\n",
       "        3.17545778e+02, 3.55097605e+02, 3.92400011e+02, 4.29747540e+02,\n",
       "        4.66657021e+02, 5.03354896e+02, 5.40473584e+02, 5.77979474e+02,\n",
       "        6.15537276e+02, 6.53142091e+02, 6.90998703e+02, 7.29166964e+02,\n",
       "        7.67527897e+02, 8.05963096e+02, 8.44433894e+02, 8.82980961e+02,\n",
       "        9.21590127e+02, 9.60082635e+02, 9.98281638e+02, 1.03603017e+03,\n",
       "        1.07278981e+03, 1.10795637e+03, 1.14170867e+03, 1.17510563e+03,\n",
       "        1.20932364e+03, 1.24501154e+03, 1.28213031e+03, 1.32019087e+03,\n",
       "        1.35862813e+03, 1.39710234e+03, 1.43554157e+03, 1.47399281e+03,\n",
       "        1.51250934e+03, 1.55109289e+03]])"
      ]
     },
     "execution_count": 12,
     "metadata": {},
     "output_type": "execute_result"
    }
   ],
   "source": [
    "pitchfork.predict(test_inputs.values)"
   ]
  },
  {
   "cell_type": "code",
   "execution_count": 14,
   "id": "541d1976-ded1-4bca-998d-a14a79acff14",
   "metadata": {},
   "outputs": [
    {
     "data": {
      "text/plain": [
       "array([[2.45003878e+00, 2.23696924e+00, 3.30518790e-02, 2.78525076e+02,\n",
       "        3.17611940e+02, 3.55039609e+02, 3.92365013e+02, 4.29765641e+02,\n",
       "        4.66589722e+02, 5.03309087e+02, 5.40535555e+02, 5.77957296e+02,\n",
       "        6.15400533e+02, 6.53030961e+02, 6.90947910e+02, 7.29110331e+02,\n",
       "        7.67400092e+02, 8.05839438e+02, 8.44334759e+02, 8.82875031e+02,\n",
       "        9.21425967e+02, 9.59917746e+02, 9.98289959e+02, 1.03614052e+03,\n",
       "        1.07222396e+03, 1.10802432e+03, 1.14202359e+03, 1.17501636e+03,\n",
       "        1.20916054e+03, 1.24508690e+03, 1.28231021e+03, 1.32018826e+03,\n",
       "        1.35847109e+03, 1.39697730e+03, 1.43554178e+03, 1.47414441e+03,\n",
       "        1.51266170e+03, 1.55105885e+03]])"
      ]
     },
     "execution_count": 14,
     "metadata": {},
     "output_type": "execute_result"
    }
   ],
   "source": [
    "test_point[['radius', 'luminosity', 'surface_Z']+[f'nu_0_{i+1}' for i in range(5,40)]].values"
   ]
  },
  {
   "cell_type": "code",
   "execution_count": 15,
   "id": "3d4cd5a6-0bf5-4c3a-b57a-fe3ef41cc122",
   "metadata": {},
   "outputs": [
    {
     "name": "stdout",
     "output_type": "stream",
     "text": [
      "1/1 [==============================] - 0s 20ms/step\n",
      "[[ 1.03316846e-03 -4.03479130e-03  9.08618446e-05  1.24530787e-01\n",
      "  -6.61621466e-02  5.79966157e-02  3.49972478e-02 -1.81016137e-02\n",
      "   6.72985459e-02  4.58093249e-02 -6.19702530e-02  2.21781614e-02\n",
      "   1.36742961e-01  1.11130320e-01  5.07922667e-02  5.66334262e-02\n",
      "   1.27804412e-01  1.23658261e-01  9.91349768e-02  1.05930484e-01\n",
      "   1.64160247e-01  1.64888976e-01 -8.32103323e-03 -1.10345347e-01\n",
      "   5.65854205e-01 -6.79453087e-02 -3.14913670e-01  8.92726267e-02\n",
      "   1.63100606e-01 -7.53564566e-02 -1.79900318e-01  2.61168162e-03\n",
      "   1.57045422e-01  1.25037186e-01 -2.05635771e-04 -1.51601935e-01\n",
      "  -1.52366000e-01  3.40386142e-02]]\n"
     ]
    }
   ],
   "source": [
    "print(pitchfork.predict(test_inputs.values)-test_point[['radius', 'luminosity', 'surface_Z']+[f'nu_0_{i+1}' for i in range(5,40)]].values)"
   ]
  },
  {
   "cell_type": "code",
   "execution_count": 53,
   "id": "790c96df-ccfd-4326-b449-7ecf7f4af536",
   "metadata": {},
   "outputs": [
    {
     "name": "stdout",
     "output_type": "stream",
     "text": [
      "1/1 [==============================] - 0s 19ms/step\n",
      "[[-4.50636245e-04 -7.72843757e-03  1.82083221e-06  2.51449362e-01\n",
      "   3.33065347e-01  3.10746654e-01  3.02382577e-01  3.43327116e-01\n",
      "   4.13120576e-01  3.75006072e-01  7.91728921e-02  7.21192526e-01\n",
      "   3.78694039e-01  3.16157711e-01]]\n"
     ]
    }
   ],
   "source": [
    "df_test = pd.read_hdf('/home/oxs235/repos/ojscutt/sl-pitchfork/test_data.h5', key='df')\n",
    "\n",
    "test_points = df_test.sample(n=1)\n",
    "\n",
    "test_inputs = np.array(test_points[['initial_mass', 'initial_Zinit', 'initial_Yinit', 'initial_MLT', 'star_age']].values)\n",
    "\n",
    "predictions = pitchfork.predict(test_inputs)\n",
    "\n",
    "print(predictions-test_points[['radius', 'luminosity', 'surface_Z']+[f'nu_0_{i+1}' for i in range(14,25)]].values)"
   ]
  },
  {
   "cell_type": "code",
   "execution_count": 16,
   "id": "8214a278-48df-42e5-8548-5b67f8fd65fa",
   "metadata": {},
   "outputs": [
    {
     "name": "stdout",
     "output_type": "stream",
     "text": [
      "16/16 [==============================] - 0s 4ms/step\n",
      "[[-1.21240019e-03 -3.88591284e-04 -6.86070458e-06 ...  1.87301229e+00\n",
      "   3.32257716e-01 -5.90362539e-01]\n",
      " [-1.19536699e-03 -4.12551511e-04 -1.16754246e-06 ...  2.02234561e+00\n",
      "   5.30782435e-01 -3.00365264e-01]\n",
      " [-1.10707821e-03 -3.21884295e-04  3.96257557e-06 ...  1.92039164e+00\n",
      "   4.81226959e-01 -2.50472419e-01]\n",
      " ...\n",
      " [-1.13078274e-02 -1.22223418e-02  1.52697075e-05 ... -1.47436801e-01\n",
      "  -8.84005590e-02  1.57068944e-01]\n",
      " [-1.23421565e-02 -1.45584897e-02  1.45687395e-05 ... -1.53712517e-01\n",
      "  -8.58735667e-02  1.69999388e-01]\n",
      " [-1.35434913e-02 -1.72174949e-02  1.44346488e-05 ...  1.51703425e-01\n",
      "   2.65074603e-01  5.63697736e-01]]\n"
     ]
    },
    {
     "data": {
      "image/png": "[encoded data removed]",
      "text/plain": [
       "<Figure size 640x480 with 1 Axes>"
      ]
     },
     "metadata": {},
     "output_type": "display_data"
    }
   ],
   "source": [
    "def calc_Teff(luminosity, radius):\n",
    "    return np.array(((luminosity.values*astropy.constants.L_sun) / (4*np.pi*constants.sigma*((radius.values*astropy.constants.R_sun)**2)))**0.25)\n",
    "\n",
    "def rescale_preds(preds, df, column):\n",
    "    if 'star_feh' in column:\n",
    "        return (preds[column+\"_std\"]*df[column].std())+df[column].mean()\n",
    "    else:\n",
    "        return 10**((preds[\"log_\"+column+\"_std\"]*df[\"log_\"+column].std())+df[\"log_\"+column].mean())\n",
    "\n",
    "# extract solar track:\n",
    "df_full = pd.read_hdf('/home/oxs235/datastorage/repos_data/ojscutt/pitchfork/data/bob.h5', key='df')\n",
    "df_mass = df_full[df_full[\"initial_mass\"]==1.0]\n",
    "\n",
    "df_mass_zinit = df_mass[df_mass[\"initial_Zinit\"] == df_mass.iloc[(df_mass['initial_Zinit']-0.014).abs().argsort()[:1]]['initial_Zinit'].tolist()[0]]\n",
    "df_test = df_mass_zinit.set_index(np.arange(0,len(df_mass_zinit)))\n",
    "\n",
    "test_inputs = np.array(df_test[['initial_mass', 'initial_Zinit', 'initial_Yinit', 'initial_MLT', 'star_age']].values)\n",
    "\n",
    "predictions = pitchfork.predict(test_inputs)\n",
    "\n",
    "print(predictions-df_test[['radius', 'luminosity', 'surface_Z']+[f'nu_0_{i+1}' for i in range(5,40)]].values)\n",
    "\n",
    "plt.plot(np.log10(calc_Teff(df_test['luminosity'], df_test['radius'])),np.log10(df_test['luminosity']))\n",
    "plt.plot(np.log10(np.array(((predictions[:,1]*astropy.constants.L_sun) / (4*np.pi*constants.sigma*((predictions[:,0]*astropy.constants.R_sun)**2)))**0.25)),np.log10(predictions[:,1]))\n",
    "plt.gca().invert_xaxis()"
   ]
  },
  {
   "cell_type": "code",
   "execution_count": 67,
   "id": "e7ad31d8-a89c-499d-8283-2dc37a590342",
   "metadata": {},
   "outputs": [
    {
     "name": "stdout",
     "output_type": "stream",
     "text": [
      "16/16 [==============================] - 0s 29ms/step\n",
      "[[ 6.94318339e-04 -3.00911236e-04 -2.30674621e-05 ... -7.15952607e-01\n",
      "  -5.98780649e-01 -7.42619178e-01]\n",
      " [ 5.26508969e-04 -3.16128511e-04 -1.97806286e-05 ... -4.42365313e-01\n",
      "  -3.05037578e-01 -4.17367061e-01]\n",
      " [ 4.05084178e-04 -2.86207336e-04 -1.63190875e-05 ... -3.15806884e-01\n",
      "  -1.65954595e-01 -2.56228617e-01]\n",
      " ...\n",
      " [ 8.19303518e-03  4.65991286e-03  7.33210957e-06 ... -7.65668347e-02\n",
      "   4.11721979e-01  4.13303899e-01]\n",
      " [ 8.45151728e-03  5.17093001e-03  8.81600656e-06 ... -8.14910460e-02\n",
      "   3.68906414e-01  4.13079844e-01]\n",
      " [ 8.55816923e-03  5.49717482e-03  1.09611082e-05 ...  1.79818755e-01\n",
      "   5.71654743e-01  6.70489290e-01]]\n"
     ]
    },
    {
     "data": {
      "image/png": "[encoded data removed]",
      "text/plain": [
       "<Figure size 640x480 with 1 Axes>"
      ]
     },
     "metadata": {},
     "output_type": "display_data"
    }
   ],
   "source": [
    "def calc_Teff(luminosity, radius):\n",
    "    return np.array(((luminosity.values*astropy.constants.L_sun) / (4*np.pi*constants.sigma*((radius.values*astropy.constants.R_sun)**2)))**0.25)\n",
    "\n",
    "def rescale_preds(preds, df, column):\n",
    "    if 'star_feh' in column:\n",
    "        return (preds[column+\"_std\"]*df[column].std())+df[column].mean()\n",
    "    else:\n",
    "        return 10**((preds[\"log_\"+column+\"_std\"]*df[\"log_\"+column].std())+df[\"log_\"+column].mean())\n",
    "\n",
    "# extract solar track:\n",
    "df_full = pd.read_hdf('/home/oxs235/datastorage/repos_data/ojscutt/pitchfork/data/bob.h5', key='df')\n",
    "df_mass = df_full[df_full[\"initial_mass\"]==1.0]\n",
    "\n",
    "df_mass_zinit = df_mass[df_mass[\"initial_Zinit\"] == df_mass.iloc[(df_mass['initial_Zinit']-0.014).abs().argsort()[:1]]['initial_Zinit'].tolist()[0]]\n",
    "df_test = df_mass_zinit.set_index(np.arange(0,len(df_mass_zinit)))\n",
    "\n",
    "test_inputs = np.array(df_test[['initial_mass', 'initial_Zinit', 'initial_Yinit', 'initial_MLT', 'star_age']].values)\n",
    "\n",
    "predictions = pitchfork.predict(test_inputs)\n",
    "\n",
    "print(predictions-df_test[['radius', 'luminosity', 'surface_Z']+[f'nu_0_{i+1}' for i in range(14,25)]].values)\n",
    "\n",
    "plt.plot(np.log10(calc_Teff(df_test['luminosity'], df_test['radius'])),np.log10(df_test['luminosity']))\n",
    "plt.plot(np.log10(np.array(((predictions[:,1]*astropy.constants.L_sun) / (4*np.pi*constants.sigma*((predictions[:,0]*astropy.constants.R_sun)**2)))**0.25)),np.log10(predictions[:,1]))\n",
    "plt.gca().invert_xaxis()"
   ]
  },
  {
   "cell_type": "code",
   "execution_count": 20,
   "id": "c78c50a0-c135-4cef-bc7c-6e9e547c98e5",
   "metadata": {},
   "outputs": [
    {
     "data": {
      "text/html": [
       "<div>\n",
       "<style scoped>\n",
       "    .dataframe tbody tr th:only-of-type {\n",
       "        vertical-align: middle;\n",
       "    }\n",
       "\n",
       "    .dataframe tbody tr th {\n",
       "        vertical-align: top;\n",
       "    }\n",
       "\n",
       "    .dataframe thead th {\n",
       "        text-align: right;\n",
       "    }\n",
       "</style>\n",
       "<table border=\"1\" class=\"dataframe\">\n",
       "  <thead>\n",
       "    <tr style=\"text-align: right;\">\n",
       "      <th></th>\n",
       "      <th>initial_mass</th>\n",
       "      <th>initial_Zinit</th>\n",
       "      <th>initial_Yinit</th>\n",
       "      <th>initial_MLT</th>\n",
       "      <th>star_age</th>\n",
       "      <th>radius</th>\n",
       "      <th>luminosity</th>\n",
       "      <th>effective_T</th>\n",
       "      <th>surface_Z</th>\n",
       "      <th>nu_0_4</th>\n",
       "      <th>...</th>\n",
       "      <th>log_nu_0_31_std</th>\n",
       "      <th>log_nu_0_32_std</th>\n",
       "      <th>log_nu_0_33_std</th>\n",
       "      <th>log_nu_0_34_std</th>\n",
       "      <th>log_nu_0_35_std</th>\n",
       "      <th>log_nu_0_36_std</th>\n",
       "      <th>log_nu_0_37_std</th>\n",
       "      <th>log_nu_0_38_std</th>\n",
       "      <th>log_nu_0_39_std</th>\n",
       "      <th>log_nu_0_40_std</th>\n",
       "    </tr>\n",
       "  </thead>\n",
       "  <tbody>\n",
       "    <tr>\n",
       "      <th>62</th>\n",
       "      <td>0.8</td>\n",
       "      <td>0.005436</td>\n",
       "      <td>0.24</td>\n",
       "      <td>1.9</td>\n",
       "      <td>1.830644</td>\n",
       "      <td>0.734012</td>\n",
       "      <td>0.396820</td>\n",
       "      <td>5350.894460</td>\n",
       "      <td>0.005250</td>\n",
       "      <td>950.115061</td>\n",
       "      <td>...</td>\n",
       "      <td>1.455915</td>\n",
       "      <td>1.456489</td>\n",
       "      <td>1.457780</td>\n",
       "      <td>1.459687</td>\n",
       "      <td>1.462175</td>\n",
       "      <td>1.464995</td>\n",
       "      <td>1.467707</td>\n",
       "      <td>1.468723</td>\n",
       "      <td>1.470753</td>\n",
       "      <td>1.471765</td>\n",
       "    </tr>\n",
       "    <tr>\n",
       "      <th>81</th>\n",
       "      <td>0.8</td>\n",
       "      <td>0.005436</td>\n",
       "      <td>0.24</td>\n",
       "      <td>1.9</td>\n",
       "      <td>2.590097</td>\n",
       "      <td>0.741693</td>\n",
       "      <td>0.410267</td>\n",
       "      <td>5367.648220</td>\n",
       "      <td>0.005174</td>\n",
       "      <td>936.194939</td>\n",
       "      <td>...</td>\n",
       "      <td>1.422254</td>\n",
       "      <td>1.422858</td>\n",
       "      <td>1.424153</td>\n",
       "      <td>1.426027</td>\n",
       "      <td>1.428489</td>\n",
       "      <td>1.431149</td>\n",
       "      <td>1.433287</td>\n",
       "      <td>1.434534</td>\n",
       "      <td>1.436288</td>\n",
       "      <td>1.436969</td>\n",
       "    </tr>\n",
       "    <tr>\n",
       "      <th>84</th>\n",
       "      <td>0.8</td>\n",
       "      <td>0.005436</td>\n",
       "      <td>0.24</td>\n",
       "      <td>1.9</td>\n",
       "      <td>2.709777</td>\n",
       "      <td>0.742931</td>\n",
       "      <td>0.412453</td>\n",
       "      <td>5370.302004</td>\n",
       "      <td>0.005162</td>\n",
       "      <td>933.989169</td>\n",
       "      <td>...</td>\n",
       "      <td>1.416864</td>\n",
       "      <td>1.417473</td>\n",
       "      <td>1.418768</td>\n",
       "      <td>1.420637</td>\n",
       "      <td>1.423093</td>\n",
       "      <td>1.425723</td>\n",
       "      <td>1.427704</td>\n",
       "      <td>1.429056</td>\n",
       "      <td>1.430764</td>\n",
       "      <td>1.431392</td>\n",
       "    </tr>\n",
       "    <tr>\n",
       "      <th>94</th>\n",
       "      <td>0.8</td>\n",
       "      <td>0.005436</td>\n",
       "      <td>0.24</td>\n",
       "      <td>1.9</td>\n",
       "      <td>3.108245</td>\n",
       "      <td>0.747132</td>\n",
       "      <td>0.419881</td>\n",
       "      <td>5379.132716</td>\n",
       "      <td>0.005123</td>\n",
       "      <td>926.585950</td>\n",
       "      <td>...</td>\n",
       "      <td>1.398662</td>\n",
       "      <td>1.399290</td>\n",
       "      <td>1.400583</td>\n",
       "      <td>1.402436</td>\n",
       "      <td>1.404859</td>\n",
       "      <td>1.407386</td>\n",
       "      <td>1.408247</td>\n",
       "      <td>1.410545</td>\n",
       "      <td>1.412095</td>\n",
       "      <td>1.412541</td>\n",
       "    </tr>\n",
       "    <tr>\n",
       "      <th>98</th>\n",
       "      <td>0.8</td>\n",
       "      <td>0.005436</td>\n",
       "      <td>0.24</td>\n",
       "      <td>1.9</td>\n",
       "      <td>3.267434</td>\n",
       "      <td>0.748841</td>\n",
       "      <td>0.422918</td>\n",
       "      <td>5382.682766</td>\n",
       "      <td>0.005107</td>\n",
       "      <td>923.608921</td>\n",
       "      <td>...</td>\n",
       "      <td>1.391294</td>\n",
       "      <td>1.391928</td>\n",
       "      <td>1.393223</td>\n",
       "      <td>1.395067</td>\n",
       "      <td>1.397474</td>\n",
       "      <td>1.399957</td>\n",
       "      <td>1.400800</td>\n",
       "      <td>1.403049</td>\n",
       "      <td>1.404535</td>\n",
       "      <td>1.404906</td>\n",
       "    </tr>\n",
       "    <tr>\n",
       "      <th>...</th>\n",
       "      <td>...</td>\n",
       "      <td>...</td>\n",
       "      <td>...</td>\n",
       "      <td>...</td>\n",
       "      <td>...</td>\n",
       "      <td>...</td>\n",
       "      <td>...</td>\n",
       "      <td>...</td>\n",
       "      <td>...</td>\n",
       "      <td>...</td>\n",
       "      <td>...</td>\n",
       "      <td>...</td>\n",
       "      <td>...</td>\n",
       "      <td>...</td>\n",
       "      <td>...</td>\n",
       "      <td>...</td>\n",
       "      <td>...</td>\n",
       "      <td>...</td>\n",
       "      <td>...</td>\n",
       "      <td>...</td>\n",
       "      <td>...</td>\n",
       "    </tr>\n",
       "    <tr>\n",
       "      <th>8141226</th>\n",
       "      <td>1.2</td>\n",
       "      <td>0.008356</td>\n",
       "      <td>0.26</td>\n",
       "      <td>2.1</td>\n",
       "      <td>3.554510</td>\n",
       "      <td>1.618158</td>\n",
       "      <td>4.112896</td>\n",
       "      <td>6466.300029</td>\n",
       "      <td>0.008356</td>\n",
       "      <td>369.619476</td>\n",
       "      <td>...</td>\n",
       "      <td>-0.720931</td>\n",
       "      <td>-0.723980</td>\n",
       "      <td>-0.728858</td>\n",
       "      <td>-0.733526</td>\n",
       "      <td>-0.736238</td>\n",
       "      <td>-0.736958</td>\n",
       "      <td>-0.736472</td>\n",
       "      <td>-0.735313</td>\n",
       "      <td>-0.734033</td>\n",
       "      <td>-0.732827</td>\n",
       "    </tr>\n",
       "    <tr>\n",
       "      <th>8141264</th>\n",
       "      <td>1.2</td>\n",
       "      <td>0.008356</td>\n",
       "      <td>0.26</td>\n",
       "      <td>2.1</td>\n",
       "      <td>3.667650</td>\n",
       "      <td>1.702451</td>\n",
       "      <td>4.672071</td>\n",
       "      <td>6508.327797</td>\n",
       "      <td>0.008356</td>\n",
       "      <td>343.341898</td>\n",
       "      <td>...</td>\n",
       "      <td>-0.895334</td>\n",
       "      <td>-0.899904</td>\n",
       "      <td>-0.904568</td>\n",
       "      <td>-0.907474</td>\n",
       "      <td>-0.908225</td>\n",
       "      <td>-0.907673</td>\n",
       "      <td>-0.906482</td>\n",
       "      <td>-0.904969</td>\n",
       "      <td>-0.903527</td>\n",
       "      <td>-0.902178</td>\n",
       "    </tr>\n",
       "    <tr>\n",
       "      <th>8141282</th>\n",
       "      <td>1.2</td>\n",
       "      <td>0.008356</td>\n",
       "      <td>0.26</td>\n",
       "      <td>2.1</td>\n",
       "      <td>3.774330</td>\n",
       "      <td>1.748112</td>\n",
       "      <td>4.788557</td>\n",
       "      <td>6462.431294</td>\n",
       "      <td>0.008356</td>\n",
       "      <td>331.555865</td>\n",
       "      <td>...</td>\n",
       "      <td>-0.974270</td>\n",
       "      <td>-0.979266</td>\n",
       "      <td>-0.983474</td>\n",
       "      <td>-0.985388</td>\n",
       "      <td>-0.985472</td>\n",
       "      <td>-0.984538</td>\n",
       "      <td>-0.983059</td>\n",
       "      <td>-0.981513</td>\n",
       "      <td>-0.980171</td>\n",
       "      <td>-0.978957</td>\n",
       "    </tr>\n",
       "    <tr>\n",
       "      <th>8141338</th>\n",
       "      <td>1.2</td>\n",
       "      <td>0.008356</td>\n",
       "      <td>0.26</td>\n",
       "      <td>2.1</td>\n",
       "      <td>4.252229</td>\n",
       "      <td>2.062876</td>\n",
       "      <td>5.662514</td>\n",
       "      <td>6203.619826</td>\n",
       "      <td>0.008356</td>\n",
       "      <td>263.683964</td>\n",
       "      <td>...</td>\n",
       "      <td>-1.477917</td>\n",
       "      <td>-1.477918</td>\n",
       "      <td>-1.476475</td>\n",
       "      <td>-1.474651</td>\n",
       "      <td>-1.472634</td>\n",
       "      <td>-1.470777</td>\n",
       "      <td>-1.469152</td>\n",
       "      <td>-1.467973</td>\n",
       "      <td>-1.467163</td>\n",
       "      <td>-1.466741</td>\n",
       "    </tr>\n",
       "    <tr>\n",
       "      <th>8141394</th>\n",
       "      <td>1.2</td>\n",
       "      <td>0.008356</td>\n",
       "      <td>0.26</td>\n",
       "      <td>2.1</td>\n",
       "      <td>4.475256</td>\n",
       "      <td>2.386881</td>\n",
       "      <td>5.760859</td>\n",
       "      <td>5792.097128</td>\n",
       "      <td>0.008356</td>\n",
       "      <td>214.887097</td>\n",
       "      <td>...</td>\n",
       "      <td>-1.908720</td>\n",
       "      <td>-1.905538</td>\n",
       "      <td>-1.902426</td>\n",
       "      <td>-1.899565</td>\n",
       "      <td>-1.897306</td>\n",
       "      <td>-1.895556</td>\n",
       "      <td>-1.894535</td>\n",
       "      <td>-1.894048</td>\n",
       "      <td>-1.894133</td>\n",
       "      <td>-1.894708</td>\n",
       "    </tr>\n",
       "  </tbody>\n",
       "</table>\n",
       "<p>122434 rows × 184 columns</p>\n",
       "</div>"
      ],
      "text/plain": [
       "         initial_mass  initial_Zinit  initial_Yinit  initial_MLT  star_age  \\\n",
       "62                0.8       0.005436           0.24          1.9  1.830644   \n",
       "81                0.8       0.005436           0.24          1.9  2.590097   \n",
       "84                0.8       0.005436           0.24          1.9  2.709777   \n",
       "94                0.8       0.005436           0.24          1.9  3.108245   \n",
       "98                0.8       0.005436           0.24          1.9  3.267434   \n",
       "...               ...            ...            ...          ...       ...   \n",
       "8141226           1.2       0.008356           0.26          2.1  3.554510   \n",
       "8141264           1.2       0.008356           0.26          2.1  3.667650   \n",
       "8141282           1.2       0.008356           0.26          2.1  3.774330   \n",
       "8141338           1.2       0.008356           0.26          2.1  4.252229   \n",
       "8141394           1.2       0.008356           0.26          2.1  4.475256   \n",
       "\n",
       "           radius  luminosity  effective_T  surface_Z      nu_0_4  ...  \\\n",
       "62       0.734012    0.396820  5350.894460   0.005250  950.115061  ...   \n",
       "81       0.741693    0.410267  5367.648220   0.005174  936.194939  ...   \n",
       "84       0.742931    0.412453  5370.302004   0.005162  933.989169  ...   \n",
       "94       0.747132    0.419881  5379.132716   0.005123  926.585950  ...   \n",
       "98       0.748841    0.422918  5382.682766   0.005107  923.608921  ...   \n",
       "...           ...         ...          ...        ...         ...  ...   \n",
       "8141226  1.618158    4.112896  6466.300029   0.008356  369.619476  ...   \n",
       "8141264  1.702451    4.672071  6508.327797   0.008356  343.341898  ...   \n",
       "8141282  1.748112    4.788557  6462.431294   0.008356  331.555865  ...   \n",
       "8141338  2.062876    5.662514  6203.619826   0.008356  263.683964  ...   \n",
       "8141394  2.386881    5.760859  5792.097128   0.008356  214.887097  ...   \n",
       "\n",
       "         log_nu_0_31_std  log_nu_0_32_std  log_nu_0_33_std  log_nu_0_34_std  \\\n",
       "62              1.455915         1.456489         1.457780         1.459687   \n",
       "81              1.422254         1.422858         1.424153         1.426027   \n",
       "84              1.416864         1.417473         1.418768         1.420637   \n",
       "94              1.398662         1.399290         1.400583         1.402436   \n",
       "98              1.391294         1.391928         1.393223         1.395067   \n",
       "...                  ...              ...              ...              ...   \n",
       "8141226        -0.720931        -0.723980        -0.728858        -0.733526   \n",
       "8141264        -0.895334        -0.899904        -0.904568        -0.907474   \n",
       "8141282        -0.974270        -0.979266        -0.983474        -0.985388   \n",
       "8141338        -1.477917        -1.477918        -1.476475        -1.474651   \n",
       "8141394        -1.908720        -1.905538        -1.902426        -1.899565   \n",
       "\n",
       "         log_nu_0_35_std  log_nu_0_36_std  log_nu_0_37_std  log_nu_0_38_std  \\\n",
       "62              1.462175         1.464995         1.467707         1.468723   \n",
       "81              1.428489         1.431149         1.433287         1.434534   \n",
       "84              1.423093         1.425723         1.427704         1.429056   \n",
       "94              1.404859         1.407386         1.408247         1.410545   \n",
       "98              1.397474         1.399957         1.400800         1.403049   \n",
       "...                  ...              ...              ...              ...   \n",
       "8141226        -0.736238        -0.736958        -0.736472        -0.735313   \n",
       "8141264        -0.908225        -0.907673        -0.906482        -0.904969   \n",
       "8141282        -0.985472        -0.984538        -0.983059        -0.981513   \n",
       "8141338        -1.472634        -1.470777        -1.469152        -1.467973   \n",
       "8141394        -1.897306        -1.895556        -1.894535        -1.894048   \n",
       "\n",
       "         log_nu_0_39_std  log_nu_0_40_std  \n",
       "62              1.470753         1.471765  \n",
       "81              1.436288         1.436969  \n",
       "84              1.430764         1.431392  \n",
       "94              1.412095         1.412541  \n",
       "98              1.404535         1.404906  \n",
       "...                  ...              ...  \n",
       "8141226        -0.734033        -0.732827  \n",
       "8141264        -0.903527        -0.902178  \n",
       "8141282        -0.980171        -0.978957  \n",
       "8141338        -1.467163        -1.466741  \n",
       "8141394        -1.894133        -1.894708  \n",
       "\n",
       "[122434 rows x 184 columns]"
      ]
     },
     "execution_count": 20,
     "metadata": {},
     "output_type": "execute_result"
    }
   ],
   "source": [
    "df_test = pd.read_hdf('/home/oxs235/repos/ojscutt/sl-pitchfork/test_data.h5', key='df')\n",
    "df_test"
   ]
  },
  {
   "cell_type": "code",
   "execution_count": 65,
   "id": "f922701a-0bcc-40e1-ab04-08dc519b6888",
   "metadata": {},
   "outputs": [],
   "source": [
    "df_test = pd.read_hdf('/home/oxs235/repos/ojscutt/sl-pitchfork/test_data.h5', key='df')\n",
    "df_time_test = df_test.sample(n=1000)\n",
    "df_time_test_inputs = np.array([df_time_test[['initial_mass', 'initial_Zinit', 'initial_Yinit', 'initial_MLT', 'star_age']].values])"
   ]
  },
  {
   "cell_type": "code",
   "execution_count": 67,
   "id": "2b96375c-db02-42c6-9f46-fb633e92d8e4",
   "metadata": {},
   "outputs": [
    {
     "name": "stdout",
     "output_type": "stream",
     "text": [
      "CPU times: user 2 µs, sys: 0 ns, total: 2 µs\n",
      "Wall time: 6.2 µs\n",
      "1/1 [==============================] - 0s 15ms/step\n",
      "1/1 [==============================] - 0s 14ms/step\n",
      "1/1 [==============================] - 0s 14ms/step\n",
      "1/1 [==============================] - 0s 14ms/step\n",
      "1/1 [==============================] - 0s 14ms/step\n",
      "1/1 [==============================] - 0s 13ms/step\n",
      "1/1 [==============================] - 0s 14ms/step\n",
      "1/1 [==============================] - 0s 14ms/step\n",
      "1/1 [==============================] - 0s 13ms/step\n",
      "1/1 [==============================] - 0s 15ms/step\n",
      "1/1 [==============================] - 0s 14ms/step\n",
      "1/1 [==============================] - 0s 14ms/step\n",
      "1/1 [==============================] - 0s 14ms/step\n",
      "1/1 [==============================] - 0s 14ms/step\n",
      "1/1 [==============================] - 0s 14ms/step\n",
      "1/1 [==============================] - 0s 14ms/step\n",
      "1/1 [==============================] - 0s 14ms/step\n",
      "1/1 [==============================] - 0s 14ms/step\n",
      "1/1 [==============================] - 0s 14ms/step\n",
      "1/1 [==============================] - 0s 13ms/step\n",
      "1/1 [==============================] - 0s 14ms/step\n",
      "1/1 [==============================] - 0s 13ms/step\n",
      "1/1 [==============================] - 0s 14ms/step\n",
      "1/1 [==============================] - 0s 14ms/step\n",
      "1/1 [==============================] - 0s 15ms/step\n",
      "1/1 [==============================] - 0s 14ms/step\n",
      "1/1 [==============================] - 0s 14ms/step\n",
      "1/1 [==============================] - 0s 14ms/step\n",
      "1/1 [==============================] - 0s 14ms/step\n",
      "1/1 [==============================] - 0s 15ms/step\n",
      "1/1 [==============================] - 0s 13ms/step\n",
      "1/1 [==============================] - 0s 14ms/step\n",
      "1/1 [==============================] - 0s 14ms/step\n",
      "1/1 [==============================] - 0s 15ms/step\n",
      "1/1 [==============================] - 0s 14ms/step\n",
      "1/1 [==============================] - 0s 15ms/step\n",
      "1/1 [==============================] - 0s 14ms/step\n",
      "1/1 [==============================] - 0s 14ms/step\n",
      "1/1 [==============================] - 0s 14ms/step\n",
      "1/1 [==============================] - 0s 14ms/step\n",
      "1/1 [==============================] - 0s 14ms/step\n",
      "1/1 [==============================] - 0s 14ms/step\n",
      "1/1 [==============================] - 0s 15ms/step\n",
      "1/1 [==============================] - 0s 14ms/step\n",
      "1/1 [==============================] - 0s 14ms/step\n",
      "1/1 [==============================] - 0s 14ms/step\n",
      "1/1 [==============================] - 0s 14ms/step\n",
      "1/1 [==============================] - 0s 14ms/step\n",
      "1/1 [==============================] - 0s 14ms/step\n",
      "1/1 [==============================] - 0s 13ms/step\n",
      "1/1 [==============================] - 0s 13ms/step\n",
      "1/1 [==============================] - 0s 13ms/step\n",
      "1/1 [==============================] - 0s 14ms/step\n",
      "1/1 [==============================] - 0s 13ms/step\n",
      "1/1 [==============================] - 0s 13ms/step\n",
      "1/1 [==============================] - 0s 14ms/step\n",
      "1/1 [==============================] - 0s 13ms/step\n",
      "1/1 [==============================] - 0s 13ms/step\n",
      "1/1 [==============================] - 0s 13ms/step\n",
      "1/1 [==============================] - 0s 14ms/step\n",
      "1/1 [==============================] - 0s 13ms/step\n",
      "1/1 [==============================] - 0s 13ms/step\n",
      "1/1 [==============================] - 0s 13ms/step\n"
     ]
    },
    {
     "name": "stderr",
     "output_type": "stream",
     "text": [
      "Exception ignored in: <function WeakKeyDictionary.__init__.<locals>.remove at 0x77d7807399d0>\n",
      "Traceback (most recent call last):\n",
      "  File \"/home/oxs235/miniconda3/envs/pitchfork/lib/python3.9/weakref.py\", line 370, in remove\n",
      "    def remove(k, selfref=ref(self)):\n",
      "KeyboardInterrupt: \n"
     ]
    },
    {
     "name": "stdout",
     "output_type": "stream",
     "text": [
      "1/1 [==============================] - 0s 17ms/step\n",
      "1/1 [==============================] - 0s 14ms/step\n",
      "1/1 [==============================] - 0s 15ms/step\n",
      "1/1 [==============================] - 0s 14ms/step\n",
      "1/1 [==============================] - 0s 14ms/step\n",
      "1/1 [==============================] - 0s 14ms/step\n",
      "1/1 [==============================] - 0s 13ms/step\n",
      "1/1 [==============================] - 0s 13ms/step\n",
      "1/1 [==============================] - 0s 14ms/step\n",
      "1/1 [==============================] - 0s 13ms/step\n",
      "1/1 [==============================] - 0s 14ms/step\n",
      "1/1 [==============================] - 0s 15ms/step\n",
      "1/1 [==============================] - 0s 13ms/step\n",
      "1/1 [==============================] - 0s 14ms/step\n",
      "1/1 [==============================] - 0s 14ms/step\n",
      "1/1 [==============================] - 0s 13ms/step\n",
      "1/1 [==============================] - 0s 13ms/step\n",
      "1/1 [==============================] - 0s 14ms/step\n",
      "1/1 [==============================] - 0s 14ms/step\n",
      "1/1 [==============================] - 0s 15ms/step\n",
      "1/1 [==============================] - 0s 14ms/step\n",
      "1/1 [==============================] - 0s 13ms/step\n",
      "1/1 [==============================] - 0s 14ms/step\n",
      "1/1 [==============================] - 0s 14ms/step\n",
      "1/1 [==============================] - 0s 14ms/step\n",
      "1/1 [==============================] - 0s 14ms/step\n",
      "1/1 [==============================] - 0s 14ms/step\n",
      "1/1 [==============================] - 0s 14ms/step\n",
      "1/1 [==============================] - 0s 14ms/step\n",
      "1/1 [==============================] - 0s 18ms/step\n",
      "1/1 [==============================] - 0s 14ms/step\n",
      "1/1 [==============================] - 0s 14ms/step\n",
      "1/1 [==============================] - 0s 13ms/step\n",
      "1/1 [==============================] - 0s 13ms/step\n",
      "1/1 [==============================] - 0s 13ms/step\n",
      "1/1 [==============================] - 0s 14ms/step\n",
      "1/1 [==============================] - 0s 14ms/step\n",
      "1/1 [==============================] - 0s 14ms/step\n",
      "1/1 [==============================] - 0s 13ms/step\n",
      "1/1 [==============================] - 0s 14ms/step\n",
      "1/1 [==============================] - 0s 13ms/step\n",
      "1/1 [==============================] - 0s 13ms/step\n",
      "1/1 [==============================] - 0s 13ms/step\n",
      "1/1 [==============================] - 0s 13ms/step\n"
     ]
    },
    {
     "name": "stderr",
     "output_type": "stream",
     "text": [
      "\n",
      "KeyboardInterrupt\n",
      "\n"
     ]
    }
   ],
   "source": [
    "%time\n",
    "for i in range(1000):\n",
    "    pitchfork.predict(df_time_test_inputs[:,i])"
   ]
  },
  {
   "cell_type": "code",
   "execution_count": null,
   "id": "d6863dfe-17d4-4b18-a615-8ab661bebc3d",
   "metadata": {},
   "outputs": [],
   "source": []
  }
 ],
 "metadata": {
  "kernelspec": {
   "display_name": "Python 3 (ipykernel)",
   "language": "python",
   "name": "python3"
  },
  "language_info": {
   "codemirror_mode": {
    "name": "ipython",
    "version": 3
   },
   "file_extension": ".py",
   "mimetype": "text/x-python",
   "name": "python",
   "nbconvert_exporter": "python",
   "pygments_lexer": "ipython3",
   "version": "3.9.18"
  }
 },
 "nbformat": 4,
 "nbformat_minor": 5
}
