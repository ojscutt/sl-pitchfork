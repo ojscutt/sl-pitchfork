{
 "cells": [
  {
   "cell_type": "markdown",
   "id": "af352139-2ac4-42e8-8970-b95461df579a",
   "metadata": {},
   "source": [
    "# Example of emulator object usage"
   ]
  },
  {
   "cell_type": "code",
   "execution_count": 24,
   "id": "aaf71d45-d62e-4dfd-969b-6df6f5243d89",
   "metadata": {},
   "outputs": [],
   "source": [
    "from pitchfuncs import emulator\n",
    "import pickle\n",
    "import pandas as pd\n",
    "import numpy as np"
   ]
  },
  {
   "cell_type": "markdown",
   "id": "2c337ec6-4328-4ca3-b87e-4012f319546d",
   "metadata": {},
   "source": [
    "## load in emulator"
   ]
  },
  {
   "cell_type": "code",
   "execution_count": 15,
   "id": "7a3ab4cf-9b84-4029-b962-921ccc6cb331",
   "metadata": {},
   "outputs": [
    {
     "name": "stdout",
     "output_type": "stream",
     "text": [
      "initial_mass range: [min = 0.8, max = 1.2]\n",
      "initial_Zinit range: [min = 0.003869061466818601, max = 0.0389797119014747]\n",
      "initial_Yinit range: [min = 0.24, max = 0.32]\n",
      "initial_MLT range: [min = 1.7, max = 2.5]\n",
      "star_age range: [min = 0.029664111540787196, max = 13.999973871651315]\n"
     ]
    }
   ],
   "source": [
    "pitchfork_name = \"nu6-40_elu_nonorm_feh\"\n",
    "pitchfork = emulator(pitchfork_name)\n",
    "\n",
    "with open(pitchfork_name+ \".pkl\", 'rb') as fp:\n",
    "     pitchfork_info = pickle.load(fp)\n",
    "\n",
    "pitchfork_ranges = pitchfork_info['parameter_ranges']"
   ]
  },
  {
   "cell_type": "markdown",
   "id": "8756e7d7-09f2-4f73-a187-aa0fdfadc950",
   "metadata": {},
   "source": [
    "to predict:"
   ]
  },
  {
   "cell_type": "code",
   "execution_count": 29,
   "id": "46215309-8056-42a7-bcc6-62a0ccb4bab9",
   "metadata": {},
   "outputs": [
    {
     "data": {
      "text/plain": [
       "array([[4.67337102e+03, 2.62434568e+02, 1.91473483e+00, 5.62288639e+02,\n",
       "        1.58800595e+03, 1.55370596e+03, 2.16706016e+03, 3.95053154e+03,\n",
       "        5.82528787e+03, 6.93252430e+03, 6.72062789e+03, 5.47521399e+03,\n",
       "        4.61142527e+03, 4.84826975e+03, 6.08309376e+03, 7.23022600e+03,\n",
       "        7.27928273e+03, 6.69698762e+03, 6.24957360e+03, 6.27742971e+03,\n",
       "        6.45735735e+03, 6.53288038e+03, 6.52322323e+03, 5.99260281e+03,\n",
       "        4.53943130e+03, 3.37100013e+03, 3.60519431e+03, 6.52550421e+03,\n",
       "        1.48067946e+04, 2.52305060e+04, 2.26950561e+04, 1.12737171e+04,\n",
       "        4.59871888e+03, 2.44894959e+03, 2.17153090e+03, 3.01977027e+03,\n",
       "        5.19490963e+03, 8.72346361e+03]])"
      ]
     },
     "execution_count": 29,
     "metadata": {},
     "output_type": "execute_result"
    }
   ],
   "source": [
    "# input needs to be a (1,5) array: ([[mass, metallicity, helium abundance, MLT, age]])\n",
    "test_inputs = np.array([[1,1,1,1,1]])\n",
    "pitchfork.predict(test_inputs)"
   ]
  },
  {
   "cell_type": "markdown",
   "id": "8bcf6569-301b-4774-ad11-423daa41212c",
   "metadata": {},
   "source": [
    "## load in hare and predict"
   ]
  },
  {
   "cell_type": "code",
   "execution_count": 30,
   "id": "9c6d4a83-9968-4cc2-bf6f-89b7b47df763",
   "metadata": {},
   "outputs": [
    {
     "name": "stdout",
     "output_type": "stream",
     "text": [
      "[[ 5.63090305e+03  7.97204001e-01 -4.70452332e-02  1.05725565e+03\n",
      "   1.21665695e+03  1.37490309e+03  1.53223318e+03  1.68649313e+03\n",
      "   1.83700920e+03  1.98527006e+03  2.13304572e+03  2.28085696e+03\n",
      "   2.42816728e+03  2.57459304e+03  2.72047622e+03  2.86650271e+03\n",
      "   3.01307728e+03  3.16014333e+03  3.30750723e+03  3.45511178e+03\n",
      "   3.60296347e+03  3.75119134e+03  3.89991846e+03  4.04896183e+03\n",
      "   4.19794582e+03  4.34692947e+03  4.49636083e+03  4.64634346e+03\n",
      "   4.79635839e+03  4.94575790e+03  5.09427017e+03  5.24194421e+03\n",
      "   5.38863047e+03  5.53362202e+03  5.67599169e+03  5.81548714e+03\n",
      "   5.95303535e+03  6.09019791e+03]]\n",
      "[ 5.62924423e+03  7.96203664e-01 -4.65549963e-02  1.05748265e+03\n",
      "  1.21639528e+03  1.37533088e+03  1.53222814e+03  1.68601422e+03\n",
      "  1.83716826e+03  1.98509444e+03  2.13280992e+03  2.28072177e+03\n",
      "  2.42792030e+03  2.57462121e+03  2.72021401e+03  2.86612367e+03\n",
      "  3.01294646e+03  3.15995061e+03  3.30742410e+03  3.45495264e+03\n",
      "  3.60261048e+03  3.75094200e+03  3.89941172e+03  4.04836804e+03\n",
      "  4.19754399e+03  4.34677286e+03  4.49639154e+03  4.64587932e+03\n",
      "  4.79536027e+03  4.94490165e+03  5.09402367e+03  5.24268474e+03\n",
      "  5.38917807e+03  5.53149927e+03  5.67544628e+03  5.81621682e+03\n",
      "  5.95365596e+03  6.08854753e+03]\n"
     ]
    }
   ],
   "source": [
    "hare = pd.read_json(\"solar_hare.json\")\n",
    "\n",
    "inputs = ['initial_mass', 'initial_Zinit', 'initial_Yinit', 'initial_MLT', 'star_age']\n",
    "hare_inps = hare[inputs]\n",
    "\n",
    "# radial orders to output, set n_min = n_max = X to just output one mode with radial order X\n",
    "n_min = 6 # 5 < n_min < n_max, defines lower limit on radial order n\n",
    "n_max = 40 # n_min < n_max < 41, defines upper limit on radial order n\n",
    "\n",
    "outputs = ['calc_effective_T', 'luminosity', 'star_feh'] + [f'nu_0_{i}' for i in range(n_min,n_max+1)]\n",
    "hare_true = hare[outputs]\n",
    "\n",
    "# print pitchfork predictions:\n",
    "print(pitchfork.predict([hare_inps.values[0]], n_min=n_min, n_max=n_max))\n",
    "\n",
    "# and true values from hare:\n",
    "print(hare_true.values[0])"
   ]
  },
  {
   "cell_type": "code",
   "execution_count": null,
   "id": "9f23987d-2c4b-441e-9baa-a4dde29c7db1",
   "metadata": {},
   "outputs": [],
   "source": []
  }
 ],
 "metadata": {
  "kernelspec": {
   "display_name": "Python 3 (ipykernel)",
   "language": "python",
   "name": "python3"
  },
  "language_info": {
   "codemirror_mode": {
    "name": "ipython",
    "version": 3
   },
   "file_extension": ".py",
   "mimetype": "text/x-python",
   "name": "python",
   "nbconvert_exporter": "python",
   "pygments_lexer": "ipython3",
   "version": "3.9.18"
  }
 },
 "nbformat": 4,
 "nbformat_minor": 5
}
