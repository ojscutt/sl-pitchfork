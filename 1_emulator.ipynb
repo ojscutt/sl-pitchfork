{
 "cells": [
  {
   "cell_type": "markdown",
   "id": "213610ba-64db-453b-9be6-e6646b00e246",
   "metadata": {},
   "source": [
    "# 1_emulator\n",
    "notebook for loading in a trained emulator, incuding the .json file with custom_object variables and data scaling values.\\\n",
    "Emulator .model and .json are stored in files in the repo."
   ]
  },
  {
   "cell_type": "code",
   "execution_count": 1,
   "id": "a29cfbd7-fa05-4d16-aab3-49c2b8f8fade",
   "metadata": {},
   "outputs": [
    {
     "name": "stderr",
     "output_type": "stream",
     "text": [
      "2024-04-24 13:38:39.053034: E external/local_xla/xla/stream_executor/cuda/cuda_dnn.cc:9261] Unable to register cuDNN factory: Attempting to register factory for plugin cuDNN when one has already been registered\n",
      "2024-04-24 13:38:39.053063: E external/local_xla/xla/stream_executor/cuda/cuda_fft.cc:607] Unable to register cuFFT factory: Attempting to register factory for plugin cuFFT when one has already been registered\n",
      "2024-04-24 13:38:39.053863: E external/local_xla/xla/stream_executor/cuda/cuda_blas.cc:1515] Unable to register cuBLAS factory: Attempting to register factory for plugin cuBLAS when one has already been registered\n",
      "2024-04-24 13:38:39.058361: I tensorflow/core/platform/cpu_feature_guard.cc:182] This TensorFlow binary is optimized to use available CPU instructions in performance-critical operations.\n",
      "To enable the following instructions: AVX2 FMA, in other operations, rebuild TensorFlow with the appropriate compiler flags.\n",
      "2024-04-24 13:38:39.607203: W tensorflow/compiler/tf2tensorrt/utils/py_utils.cc:38] TF-TRT Warning: Could not find TensorRT\n"
     ]
    },
    {
     "name": "stdout",
     "output_type": "stream",
     "text": [
      "Current GPU usage:\n",
      " - GPU0: 0B\n",
      "\n"
     ]
    },
    {
     "name": "stderr",
     "output_type": "stream",
     "text": [
      "2024-04-24 13:38:40.194694: I tensorflow/core/common_runtime/gpu/gpu_device.cc:1929] Created device /job:localhost/replica:0/task:0/device:GPU:0 with 18190 MB memory:  -> device: 0, name: NVIDIA RTX A4500, pci bus id: 0000:41:00.0, compute capability: 8.6\n"
     ]
    }
   ],
   "source": [
    "#### misc\n",
    "import pandas as pd\n",
    "import numpy as np\n",
    "import os\n",
    "from pathlib import Path\n",
    "import pickle\n",
    "import time\n",
    "from itertools import product\n",
    "from scipy import constants\n",
    "from scipy import stats\n",
    "import random\n",
    "import astropy.constants\n",
    "from numpy.random import default_rng\n",
    "import pickle\n",
    "\n",
    "#### graphical\n",
    "import matplotlib.pyplot as plt\n",
    "\n",
    "#### ML\n",
    "from pitchfuncs import WMSE\n",
    "from pitchfuncs import InversePCA\n",
    "from pitchfuncs import emulator\n",
    "import sklearn\n",
    "from sklearn.decomposition import PCA\n",
    "import tensorflow as tf\n",
    "import keras\n",
    "from keras import layers\n",
    "\n",
    "##### poke gpu\n",
    "os.environ[\"CUDA_VISIBLE_DEVICES\"]=\"0\"\n",
    "\n",
    "physical_devices = tf.config.list_physical_devices(\"GPU\") \n",
    "\n",
    "gpu0usage = tf.config.experimental.get_memory_info(\"GPU:0\")[\"current\"]\n",
    "\n",
    "print(\"Current GPU usage:\\n\"\n",
    "     + \" - GPU0: \" + str(gpu0usage) + \"B\\n\")"
   ]
  },
  {
   "cell_type": "markdown",
   "id": "83dcf3b2-3a10-491d-ab7a-59ea33d79f01",
   "metadata": {},
   "source": [
    "# 1) Specify emulator name\n",
    "if file structure has been organised properly, just the name should find the emulator and unpack the relevant .json and .model files"
   ]
  },
  {
   "cell_type": "code",
   "execution_count": 3,
   "id": "11574daa-38a0-49b1-b75a-542fc90cd2cf",
   "metadata": {},
   "outputs": [],
   "source": [
    "pitchfork_name = \"nu6-40\""
   ]
  },
  {
   "cell_type": "markdown",
   "id": "b6ed9e32-26ab-4fe7-9d24-4fd151c1ed35",
   "metadata": {},
   "source": [
    "# 2) Unpickle emulator dict\n",
    "Unpack .json, print architecture and emulator parameter ranges"
   ]
  },
  {
   "cell_type": "code",
   "execution_count": 4,
   "id": "d92cd00e-dc72-4ca9-8035-4ba6ad4cde2a",
   "metadata": {},
   "outputs": [],
   "source": [
    "file_path = \"pickle jar/\"+pitchfork_name\n",
    "\n",
    "with open(file_path+\".pkl\", 'rb') as fp:\n",
    "     emulator_dict = pickle.load(fp)"
   ]
  },
  {
   "cell_type": "markdown",
   "id": "d01ba132-72f0-4c00-b858-2b25d07980b0",
   "metadata": {},
   "source": [
    "# 3) Load in emulator with custom objects\n",
    "Loading in the emulator from keras .model file using custom objects from dict"
   ]
  },
  {
   "cell_type": "code",
   "execution_count": 5,
   "id": "dbc682a5-97b3-4c4a-ae9f-82bdd3cb65d4",
   "metadata": {},
   "outputs": [],
   "source": [
    "custom_objects = {\"InversePCA\": InversePCA(emulator_dict['custom_objects']['inverse_pca']['pca_comps'], emulator_dict['custom_objects']['inverse_pca']['pca_mean']),\"WMSE\": WMSE(emulator_dict['custom_objects']['WMSE']['weights'])}\n",
    "\n",
    "model = tf.keras.models.load_model(file_path+\".h5\", custom_objects=custom_objects)"
   ]
  },
  {
   "cell_type": "markdown",
   "id": "001e4abd-f78b-42c2-bfcd-60aec6c2e3ff",
   "metadata": {},
   "source": [
    "# 4) print emulator parameter ranges\n",
    "use the saved ranges from the pickled dict to print out reasonable parameter ranges for network to query"
   ]
  },
  {
   "cell_type": "code",
   "execution_count": 6,
   "id": "3e2a313c-887b-4624-9b57-9f39772f5e30",
   "metadata": {},
   "outputs": [
    {
     "name": "stdout",
     "output_type": "stream",
     "text": [
      "initial_mass range: [min = 0.8, max = 1.2]\n",
      "initial_Zinit range: [min = 0.003869061466818601, max = 0.0389797119014747]\n",
      "initial_Yinit range: [min = 0.24, max = 0.32]\n",
      "initial_MLT range: [min = 1.7, max = 2.5]\n",
      "star_age range: [min = 0.029664111540787196, max = 13.999973871651315]\n"
     ]
    }
   ],
   "source": [
    "[print(str(key).replace(\"log_\",\"\") + \" range: \" + \"[min = \" + str(emulator_dict['parameter_ranges'][key][\"min\"]) + \", max = \" + str(emulator_dict['parameter_ranges'][key][\"max\"]) + \"]\") for key in emulator_dict['parameter_ranges'].keys()]; "
   ]
  },
  {
   "cell_type": "markdown",
   "id": "f57d5796-05be-4600-9e8d-9be1e7603e05",
   "metadata": {},
   "source": [
    "# 5) test predictions\n",
    "Nice!"
   ]
  },
  {
   "cell_type": "code",
   "execution_count": 7,
   "id": "7eafbdac-d953-4e02-9a50-6eaa333994b3",
   "metadata": {},
   "outputs": [
    {
     "name": "stderr",
     "output_type": "stream",
     "text": [
      "2024-03-20 14:00:25.710960: I external/local_tsl/tsl/platform/default/subprocess.cc:304] Start cannot spawn child process: No such file or directory\n",
      "2024-03-20 14:00:25.766602: I external/local_xla/xla/stream_executor/cuda/cuda_dnn.cc:454] Loaded cuDNN version 8904\n"
     ]
    },
    {
     "data": {
      "text/plain": [
       "[<tf.Tensor: shape=(1, 3), dtype=float32, numpy=array([[-0.4059231, -0.1889165, -0.0265745]], dtype=float32)>,\n",
       " <tf.Tensor: shape=(1, 35), dtype=float32, numpy=\n",
       " array([[0.43196377, 0.4347581 , 0.43773463, 0.43961442, 0.4397998 ,\n",
       "         0.43835348, 0.43669775, 0.43626782, 0.43661922, 0.43650085,\n",
       "         0.43560123, 0.43461916, 0.43424672, 0.4344684 , 0.43484232,\n",
       "         0.4350686 , 0.4350985 , 0.43507016, 0.43509513, 0.43519545,\n",
       "         0.4354824 , 0.43614548, 0.437058  , 0.4378288 , 0.43826604,\n",
       "         0.4385652 , 0.4389439 , 0.43932095, 0.43933064, 0.43855643,\n",
       "         0.4368676 , 0.43458012, 0.43230602, 0.43061897, 0.4298179 ]],\n",
       "       dtype=float32)>]"
      ]
     },
     "execution_count": 7,
     "metadata": {},
     "output_type": "execute_result"
    }
   ],
   "source": [
    "model(np.array([[0, 0, 0, 0, 0]]))"
   ]
  },
  {
   "cell_type": "markdown",
   "id": "183719db-ee6f-4052-83f8-07b1a4dc1b82",
   "metadata": {},
   "source": [
    "# 6) Rescale using pickled parameters"
   ]
  },
  {
   "cell_type": "code",
   "execution_count": 9,
   "id": "fa437ac7-a364-42f4-b790-8c2758225b03",
   "metadata": {},
   "outputs": [],
   "source": [
    "class emulator:\n",
    "    def __init__(self, emulator_name):\n",
    "        self.emulator_name = emulator_name\n",
    "        self.file_path = \"pickle jar/\"+ self.emulator_name\n",
    "\n",
    "        with open(self.file_path+\".pkl\", 'rb') as fp:\n",
    "             self.emulator_dict = pickle.load(fp)\n",
    "            \n",
    "        self.custom_objects = {\"InversePCA\": InversePCA(self.emulator_dict['custom_objects']['inverse_pca']['pca_comps'], self.emulator_dict['custom_objects']['inverse_pca']['pca_mean']),\"WMSE\": WMSE(self.emulator_dict['custom_objects']['WMSE']['weights'])}\n",
    "\n",
    "        self.model = tf.keras.models.load_model(self.file_path+\".h5\", custom_objects=custom_objects)\n",
    "\n",
    "        [print(str(key).replace(\"log_\",\"\") + \" range: \" + \"[min = \" + str(self.emulator_dict['parameter_ranges'][key][\"min\"]) + \", max = \" + str(self.emulator_dict['parameter_ranges'][key][\"max\"]) + \"]\") for key in self.emulator_dict['parameter_ranges'].keys()];\n",
    "\n",
    "    def predict(self, input_data,verbose=False):\n",
    "        log_inputs_mean = np.array(self.emulator_dict[\"data_scaling\"][\"inp_mean\"][0])\n",
    "        \n",
    "        log_inputs_std = np.array(self.emulator_dict[\"data_scaling\"][\"inp_std\"][0])\n",
    "\n",
    "        log_outputs_mean = np.array(self.emulator_dict[\"data_scaling\"][\"classical_out_mean\"][0] + self.emulator_dict[\"data_scaling\"][\"astero_out_mean\"][0])\n",
    "        \n",
    "        log_outputs_std = np.array(self.emulator_dict[\"data_scaling\"][\"classical_out_std\"][0] + self.emulator_dict[\"data_scaling\"][\"astero_out_std\"][0])\n",
    "        \n",
    "        log_inputs = np.log10(input_data)\n",
    "        \n",
    "        standardised_log_inputs = (log_inputs - log_inputs_mean)/log_inputs_std\n",
    "\n",
    "        standardised_log_outputs = self.model.predict(standardised_log_inputs, verbose=verbose)\n",
    "\n",
    "        standardised_log_outputs = np.concatenate((np.array(standardised_log_outputs[0]),np.array(standardised_log_outputs[1])), axis=1)\n",
    "\n",
    "        log_outputs = (standardised_log_outputs*log_outputs_std) + log_outputs_mean\n",
    "\n",
    "        outputs = 10**log_outputs\n",
    "\n",
    "        return outputs"
   ]
  },
  {
   "cell_type": "code",
   "execution_count": 10,
   "id": "dd0fd41e-ac57-4cc8-8ac4-b8abce3d2c60",
   "metadata": {},
   "outputs": [
    {
     "name": "stdout",
     "output_type": "stream",
     "text": [
      "initial_mass range: [min = 0.8, max = 1.2]\n",
      "initial_Zinit range: [min = 0.003869061466818601, max = 0.0389797119014747]\n",
      "initial_Yinit range: [min = 0.24, max = 0.32]\n",
      "initial_MLT range: [min = 1.7, max = 2.5]\n",
      "star_age range: [min = 0.029664111540787196, max = 13.999973871651315]\n"
     ]
    }
   ],
   "source": [
    "pitchfork = emulator(\"nu6-40\")"
   ]
  },
  {
   "cell_type": "code",
   "execution_count": 11,
   "id": "cfcc5bcf-d67a-4c6a-8419-d831bb98e362",
   "metadata": {},
   "outputs": [
    {
     "data": {
      "text/plain": [
       "array([[1.34286002e+00, 1.52817385e+00, 6.77941480e-02, 3.48856600e+02,\n",
       "        3.93594907e+02, 4.35992832e+02, 4.82244537e+02, 5.30866788e+02,\n",
       "        5.77488251e+02, 6.22042342e+02, 6.67088072e+02, 7.13487222e+02,\n",
       "        7.60516769e+02, 8.07659381e+02, 8.54908502e+02, 9.02329602e+02,\n",
       "        9.49782338e+02, 9.97018083e+02, 1.04386924e+03, 1.09000968e+03,\n",
       "        1.13529594e+03, 1.17962368e+03, 1.22246570e+03, 1.26360286e+03,\n",
       "        1.30400624e+03, 1.34541641e+03, 1.38898617e+03, 1.43475826e+03,\n",
       "        1.48205131e+03, 1.52990752e+03, 1.57772108e+03, 1.62535408e+03,\n",
       "        1.67281671e+03, 1.71999240e+03, 1.76664045e+03, 1.81272295e+03,\n",
       "        1.85860636e+03, 1.90473949e+03]])"
      ]
     },
     "execution_count": 11,
     "metadata": {},
     "output_type": "execute_result"
    }
   ],
   "source": [
    "pitchfork.predict(np.array([[1, 0.2, 0.3, 2, 8]]))"
   ]
  },
  {
   "cell_type": "markdown",
   "id": "c6a062a9-6eae-4170-866a-1a5fb3eaeb2c",
   "metadata": {},
   "source": [
    "# 7) Test data\n",
    "Let's try with some test data from our test set (should be in h5 file)"
   ]
  },
  {
   "cell_type": "code",
   "execution_count": 12,
   "id": "857c0a64-f50b-4b55-a6f8-0a7de2a1dc87",
   "metadata": {},
   "outputs": [
    {
     "data": {
      "text/html": [
       "<div>\n",
       "<style scoped>\n",
       "    .dataframe tbody tr th:only-of-type {\n",
       "        vertical-align: middle;\n",
       "    }\n",
       "\n",
       "    .dataframe tbody tr th {\n",
       "        vertical-align: top;\n",
       "    }\n",
       "\n",
       "    .dataframe thead th {\n",
       "        text-align: right;\n",
       "    }\n",
       "</style>\n",
       "<table border=\"1\" class=\"dataframe\">\n",
       "  <thead>\n",
       "    <tr style=\"text-align: right;\">\n",
       "      <th></th>\n",
       "      <th>initial_mass</th>\n",
       "      <th>initial_Zinit</th>\n",
       "      <th>initial_Yinit</th>\n",
       "      <th>initial_MLT</th>\n",
       "      <th>star_age</th>\n",
       "      <th>radius</th>\n",
       "      <th>luminosity</th>\n",
       "      <th>effective_T</th>\n",
       "      <th>surface_Z</th>\n",
       "      <th>nu_0_4</th>\n",
       "      <th>...</th>\n",
       "      <th>log_nu_0_31_std</th>\n",
       "      <th>log_nu_0_32_std</th>\n",
       "      <th>log_nu_0_33_std</th>\n",
       "      <th>log_nu_0_34_std</th>\n",
       "      <th>log_nu_0_35_std</th>\n",
       "      <th>log_nu_0_36_std</th>\n",
       "      <th>log_nu_0_37_std</th>\n",
       "      <th>log_nu_0_38_std</th>\n",
       "      <th>log_nu_0_39_std</th>\n",
       "      <th>log_nu_0_40_std</th>\n",
       "    </tr>\n",
       "  </thead>\n",
       "  <tbody>\n",
       "    <tr>\n",
       "      <th>5119266</th>\n",
       "      <td>1.06</td>\n",
       "      <td>0.007903</td>\n",
       "      <td>0.3</td>\n",
       "      <td>2.5</td>\n",
       "      <td>0.127754</td>\n",
       "      <td>1.013203</td>\n",
       "      <td>1.684949</td>\n",
       "      <td>6537.743174</td>\n",
       "      <td>0.007779</td>\n",
       "      <td>668.979172</td>\n",
       "      <td>...</td>\n",
       "      <td>0.675594</td>\n",
       "      <td>0.675674</td>\n",
       "      <td>0.676826</td>\n",
       "      <td>0.678065</td>\n",
       "      <td>0.679264</td>\n",
       "      <td>0.680205</td>\n",
       "      <td>0.680478</td>\n",
       "      <td>0.679811</td>\n",
       "      <td>0.678156</td>\n",
       "      <td>0.676193</td>\n",
       "    </tr>\n",
       "  </tbody>\n",
       "</table>\n",
       "<p>1 rows × 184 columns</p>\n",
       "</div>"
      ],
      "text/plain": [
       "         initial_mass  initial_Zinit  initial_Yinit  initial_MLT  star_age  \\\n",
       "5119266          1.06       0.007903            0.3          2.5  0.127754   \n",
       "\n",
       "           radius  luminosity  effective_T  surface_Z      nu_0_4  ...  \\\n",
       "5119266  1.013203    1.684949  6537.743174   0.007779  668.979172  ...   \n",
       "\n",
       "         log_nu_0_31_std  log_nu_0_32_std  log_nu_0_33_std  log_nu_0_34_std  \\\n",
       "5119266         0.675594         0.675674         0.676826         0.678065   \n",
       "\n",
       "         log_nu_0_35_std  log_nu_0_36_std  log_nu_0_37_std  log_nu_0_38_std  \\\n",
       "5119266         0.679264         0.680205         0.680478         0.679811   \n",
       "\n",
       "         log_nu_0_39_std  log_nu_0_40_std  \n",
       "5119266         0.678156         0.676193  \n",
       "\n",
       "[1 rows x 184 columns]"
      ]
     },
     "execution_count": 12,
     "metadata": {},
     "output_type": "execute_result"
    }
   ],
   "source": [
    "df_test = pd.read_hdf('/home/oxs235/repos/ojscutt/sl-pitchfork/test_data.h5', key='df')\n",
    "\n",
    "test_point = df_test.sample(n=1)\n",
    "test_point"
   ]
  },
  {
   "cell_type": "code",
   "execution_count": 13,
   "id": "f6b4e1e4-69af-47e4-9844-9f6eb5d6b8f5",
   "metadata": {},
   "outputs": [
    {
     "data": {
      "text/plain": [
       "array([[1.06      , 0.00790293, 0.3       , 2.5       , 0.12775372]])"
      ]
     },
     "execution_count": 13,
     "metadata": {},
     "output_type": "execute_result"
    }
   ],
   "source": [
    "test_inputs = test_point[['initial_mass', 'initial_Zinit', 'initial_Yinit', 'initial_MLT', 'star_age']]\n",
    "\n",
    "test_inputs.values"
   ]
  },
  {
   "cell_type": "code",
   "execution_count": 14,
   "id": "445834d6-db23-48e6-9563-ee095166a5f2",
   "metadata": {},
   "outputs": [
    {
     "data": {
      "text/plain": [
       "array([[1.01272450e+00, 1.68103942e+00, 7.77224826e-03, 9.52212421e+02,\n",
       "        1.09294572e+03, 1.23451006e+03, 1.37557988e+03, 1.51599466e+03,\n",
       "        1.65518309e+03, 1.79075931e+03, 1.92258313e+03, 2.05401032e+03,\n",
       "        2.18756765e+03, 2.32239061e+03, 2.45627746e+03, 2.58862858e+03,\n",
       "        2.72060959e+03, 2.85338906e+03, 2.98728272e+03, 3.12200090e+03,\n",
       "        3.25698024e+03, 3.39203186e+03, 3.52723069e+03, 3.66237777e+03,\n",
       "        3.79731683e+03, 3.93244375e+03, 4.06810190e+03, 4.20384681e+03,\n",
       "        4.33889073e+03, 4.47305153e+03, 4.60682636e+03, 4.74059613e+03,\n",
       "        4.87396407e+03, 5.00568876e+03, 5.13452560e+03, 5.26027100e+03,\n",
       "        5.38408433e+03, 5.50776082e+03]])"
      ]
     },
     "execution_count": 14,
     "metadata": {},
     "output_type": "execute_result"
    }
   ],
   "source": [
    "pitchfork.predict(test_inputs.values)"
   ]
  },
  {
   "cell_type": "code",
   "execution_count": 15,
   "id": "541d1976-ded1-4bca-998d-a14a79acff14",
   "metadata": {},
   "outputs": [
    {
     "data": {
      "text/plain": [
       "array([[1.01320322e+00, 1.68494943e+00, 7.77891942e-03, 9.52187837e+02,\n",
       "        1.09302248e+03, 1.23426681e+03, 1.37558194e+03, 1.51596332e+03,\n",
       "        1.65528469e+03, 1.79036739e+03, 1.92282799e+03, 2.05415844e+03,\n",
       "        2.18759417e+03, 2.32210898e+03, 2.45631444e+03, 2.58904717e+03,\n",
       "        2.72072094e+03, 2.85322049e+03, 2.98694428e+03, 3.12206823e+03,\n",
       "        3.25726017e+03, 3.39250744e+03, 3.52726054e+03, 3.66201282e+03,\n",
       "        3.79707743e+03, 3.93239268e+03, 4.06817788e+03, 4.20367051e+03,\n",
       "        4.33895001e+03, 4.47222778e+03, 4.60686799e+03, 4.74081642e+03,\n",
       "        4.87378005e+03, 5.00531332e+03, 5.13454770e+03, 5.26098005e+03,\n",
       "        5.38471649e+03, 5.50773676e+03]])"
      ]
     },
     "execution_count": 15,
     "metadata": {},
     "output_type": "execute_result"
    }
   ],
   "source": [
    "test_point[['radius', 'luminosity', 'surface_Z']+[f'nu_0_{i+1}' for i in range(5,40)]].values"
   ]
  },
  {
   "cell_type": "code",
   "execution_count": 16,
   "id": "3d4cd5a6-0bf5-4c3a-b57a-fe3ef41cc122",
   "metadata": {},
   "outputs": [
    {
     "name": "stdout",
     "output_type": "stream",
     "text": [
      "[[-4.78718719e-04 -3.91001105e-03 -6.67115174e-06  2.45836827e-02\n",
      "  -7.67566981e-02  2.43252208e-01 -2.05876520e-03  3.13357008e-02\n",
      "  -1.01592745e-01  3.91915515e-01 -2.44865893e-01 -1.48118748e-01\n",
      "  -2.65113791e-02  2.81623348e-01 -3.69724562e-02 -4.18596566e-01\n",
      "  -1.11344366e-01  1.68573779e-01  3.38434536e-01 -6.73238316e-02\n",
      "  -2.79923517e-01 -4.75583438e-01 -2.98509541e-02  3.64947540e-01\n",
      "   2.39392090e-01  5.10739237e-02 -7.59797827e-02  1.76304628e-01\n",
      "  -5.92820703e-02  8.23748799e-01 -4.16305773e-02 -2.20283602e-01\n",
      "   1.84017110e-01  3.75446925e-01 -2.20963592e-02 -7.09049894e-01\n",
      "  -6.32161852e-01  2.40537397e-02]]\n"
     ]
    }
   ],
   "source": [
    "print(pitchfork.predict(test_inputs.values)-test_point[['radius', 'luminosity', 'surface_Z']+[f'nu_0_{i+1}' for i in range(5,40)]].values)"
   ]
  },
  {
   "cell_type": "code",
   "execution_count": 17,
   "id": "790c96df-ccfd-4326-b449-7ecf7f4af536",
   "metadata": {},
   "outputs": [
    {
     "name": "stdout",
     "output_type": "stream",
     "text": [
      "[[-1.53955326e-02  3.02031768e-02 -2.22648370e-07 -2.41768167e-01\n",
      "   3.79354735e-02  7.20203048e-02  1.03341992e-01 -1.49930050e-01\n",
      "   6.40161228e-02  2.25241669e-01  4.76028784e-02  8.85631768e-02\n",
      "   3.42572321e-03  4.39989781e-02  9.84769308e-02 -2.03313558e-01\n",
      "  -2.14457998e-01  1.28762167e-01  2.60540253e-01  4.18778852e-01\n",
      "   2.46143418e-01 -8.45554010e-02  6.46081476e-02 -6.26763058e-02\n",
      "  -2.03452647e-01 -1.15635559e-01 -1.33240533e-01 -1.64736960e-01\n",
      "  -3.29258954e-01 -2.03465623e-01  1.81569114e-01  8.96760737e-04\n",
      "  -4.55131057e-01 -4.33115003e-01 -8.40995900e-02  1.24724309e-01\n",
      "  -1.35434390e-02 -2.14739147e-01]]\n"
     ]
    }
   ],
   "source": [
    "df_test = pd.read_hdf('/home/oxs235/repos/ojscutt/sl-pitchfork/test_data.h5', key='df')\n",
    "\n",
    "test_points = df_test.sample(n=1)\n",
    "\n",
    "test_inputs = np.array(test_points[['initial_mass', 'initial_Zinit', 'initial_Yinit', 'initial_MLT', 'star_age']].values)\n",
    "\n",
    "predictions = pitchfork.predict(test_inputs)\n",
    "\n",
    "print(predictions-test_points[['radius', 'luminosity', 'surface_Z']+[f'nu_0_{i+1}' for i in range(5,40)]].values)"
   ]
  },
  {
   "cell_type": "code",
   "execution_count": 18,
   "id": "8214a278-48df-42e5-8548-5b67f8fd65fa",
   "metadata": {},
   "outputs": [
    {
     "name": "stdout",
     "output_type": "stream",
     "text": [
      "[[-1.21240019e-03 -3.88591284e-04 -6.86070458e-06 ...  1.87301229e+00\n",
      "   3.32257716e-01 -5.90362539e-01]\n",
      " [-1.19536699e-03 -4.12551511e-04 -1.16754246e-06 ...  2.02234561e+00\n",
      "   5.30782435e-01 -3.00365264e-01]\n",
      " [-1.10707821e-03 -3.21884295e-04  3.96257557e-06 ...  1.92039164e+00\n",
      "   4.81226959e-01 -2.50472419e-01]\n",
      " ...\n",
      " [-1.13078274e-02 -1.22223418e-02  1.52697075e-05 ... -1.47436801e-01\n",
      "  -8.84005590e-02  1.57068944e-01]\n",
      " [-1.23421565e-02 -1.45584897e-02  1.45687395e-05 ... -1.53712517e-01\n",
      "  -8.58735667e-02  1.69999388e-01]\n",
      " [-1.35434913e-02 -1.72174949e-02  1.44346488e-05 ...  1.51703425e-01\n",
      "   2.65074603e-01  5.63697736e-01]]\n"
     ]
    },
    {
     "data": {
      "image/png": "[encoded data removed]",
      "text/plain": [
       "<Figure size 640x480 with 1 Axes>"
      ]
     },
     "metadata": {},
     "output_type": "display_data"
    }
   ],
   "source": [
    "def calc_Teff(luminosity, radius):\n",
    "    return np.array(((luminosity.values*astropy.constants.L_sun) / (4*np.pi*constants.sigma*((radius.values*astropy.constants.R_sun)**2)))**0.25)\n",
    "\n",
    "def rescale_preds(preds, df, column):\n",
    "    if 'star_feh' in column:\n",
    "        return (preds[column+\"_std\"]*df[column].std())+df[column].mean()\n",
    "    else:\n",
    "        return 10**((preds[\"log_\"+column+\"_std\"]*df[\"log_\"+column].std())+df[\"log_\"+column].mean())\n",
    "\n",
    "# extract solar track:\n",
    "df_full = pd.read_hdf('/home/oxs235/datastorage/repos_data/ojscutt/pitchfork/data/bob.h5', key='df')\n",
    "df_mass = df_full[df_full[\"initial_mass\"]==1.0]\n",
    "\n",
    "df_mass_zinit = df_mass[df_mass[\"initial_Zinit\"] == df_mass.iloc[(df_mass['initial_Zinit']-0.014).abs().argsort()[:1]]['initial_Zinit'].tolist()[0]]\n",
    "df_test = df_mass_zinit.set_index(np.arange(0,len(df_mass_zinit)))\n",
    "\n",
    "test_inputs = np.array(df_test[['initial_mass', 'initial_Zinit', 'initial_Yinit', 'initial_MLT', 'star_age']].values)\n",
    "\n",
    "predictions = pitchfork.predict(test_inputs)\n",
    "\n",
    "print(predictions-df_test[['radius', 'luminosity', 'surface_Z']+[f'nu_0_{i+1}' for i in range(5,40)]].values)\n",
    "\n",
    "plt.plot(np.log10(calc_Teff(df_test['luminosity'], df_test['radius'])),np.log10(df_test['luminosity']))\n",
    "plt.plot(np.log10(np.array(((predictions[:,1]*astropy.constants.L_sun) / (4*np.pi*constants.sigma*((predictions[:,0]*astropy.constants.R_sun)**2)))**0.25)),np.log10(predictions[:,1]))\n",
    "plt.gca().invert_xaxis()"
   ]
  },
  {
   "cell_type": "code",
   "execution_count": 19,
   "id": "c78c50a0-c135-4cef-bc7c-6e9e547c98e5",
   "metadata": {},
   "outputs": [
    {
     "data": {
      "text/html": [
       "<div>\n",
       "<style scoped>\n",
       "    .dataframe tbody tr th:only-of-type {\n",
       "        vertical-align: middle;\n",
       "    }\n",
       "\n",
       "    .dataframe tbody tr th {\n",
       "        vertical-align: top;\n",
       "    }\n",
       "\n",
       "    .dataframe thead th {\n",
       "        text-align: right;\n",
       "    }\n",
       "</style>\n",
       "<table border=\"1\" class=\"dataframe\">\n",
       "  <thead>\n",
       "    <tr style=\"text-align: right;\">\n",
       "      <th></th>\n",
       "      <th>initial_mass</th>\n",
       "      <th>initial_Zinit</th>\n",
       "      <th>initial_Yinit</th>\n",
       "      <th>initial_MLT</th>\n",
       "      <th>star_age</th>\n",
       "      <th>radius</th>\n",
       "      <th>luminosity</th>\n",
       "      <th>effective_T</th>\n",
       "      <th>surface_Z</th>\n",
       "      <th>nu_0_4</th>\n",
       "      <th>...</th>\n",
       "      <th>log_nu_0_31_std</th>\n",
       "      <th>log_nu_0_32_std</th>\n",
       "      <th>log_nu_0_33_std</th>\n",
       "      <th>log_nu_0_34_std</th>\n",
       "      <th>log_nu_0_35_std</th>\n",
       "      <th>log_nu_0_36_std</th>\n",
       "      <th>log_nu_0_37_std</th>\n",
       "      <th>log_nu_0_38_std</th>\n",
       "      <th>log_nu_0_39_std</th>\n",
       "      <th>log_nu_0_40_std</th>\n",
       "    </tr>\n",
       "  </thead>\n",
       "  <tbody>\n",
       "    <tr>\n",
       "      <th>62</th>\n",
       "      <td>0.8</td>\n",
       "      <td>0.005436</td>\n",
       "      <td>0.24</td>\n",
       "      <td>1.9</td>\n",
       "      <td>1.830644</td>\n",
       "      <td>0.734012</td>\n",
       "      <td>0.396820</td>\n",
       "      <td>5350.894460</td>\n",
       "      <td>0.005250</td>\n",
       "      <td>950.115061</td>\n",
       "      <td>...</td>\n",
       "      <td>1.455915</td>\n",
       "      <td>1.456489</td>\n",
       "      <td>1.457780</td>\n",
       "      <td>1.459687</td>\n",
       "      <td>1.462175</td>\n",
       "      <td>1.464995</td>\n",
       "      <td>1.467707</td>\n",
       "      <td>1.468723</td>\n",
       "      <td>1.470753</td>\n",
       "      <td>1.471765</td>\n",
       "    </tr>\n",
       "    <tr>\n",
       "      <th>81</th>\n",
       "      <td>0.8</td>\n",
       "      <td>0.005436</td>\n",
       "      <td>0.24</td>\n",
       "      <td>1.9</td>\n",
       "      <td>2.590097</td>\n",
       "      <td>0.741693</td>\n",
       "      <td>0.410267</td>\n",
       "      <td>5367.648220</td>\n",
       "      <td>0.005174</td>\n",
       "      <td>936.194939</td>\n",
       "      <td>...</td>\n",
       "      <td>1.422254</td>\n",
       "      <td>1.422858</td>\n",
       "      <td>1.424153</td>\n",
       "      <td>1.426027</td>\n",
       "      <td>1.428489</td>\n",
       "      <td>1.431149</td>\n",
       "      <td>1.433287</td>\n",
       "      <td>1.434534</td>\n",
       "      <td>1.436288</td>\n",
       "      <td>1.436969</td>\n",
       "    </tr>\n",
       "    <tr>\n",
       "      <th>84</th>\n",
       "      <td>0.8</td>\n",
       "      <td>0.005436</td>\n",
       "      <td>0.24</td>\n",
       "      <td>1.9</td>\n",
       "      <td>2.709777</td>\n",
       "      <td>0.742931</td>\n",
       "      <td>0.412453</td>\n",
       "      <td>5370.302004</td>\n",
       "      <td>0.005162</td>\n",
       "      <td>933.989169</td>\n",
       "      <td>...</td>\n",
       "      <td>1.416864</td>\n",
       "      <td>1.417473</td>\n",
       "      <td>1.418768</td>\n",
       "      <td>1.420637</td>\n",
       "      <td>1.423093</td>\n",
       "      <td>1.425723</td>\n",
       "      <td>1.427704</td>\n",
       "      <td>1.429056</td>\n",
       "      <td>1.430764</td>\n",
       "      <td>1.431392</td>\n",
       "    </tr>\n",
       "    <tr>\n",
       "      <th>94</th>\n",
       "      <td>0.8</td>\n",
       "      <td>0.005436</td>\n",
       "      <td>0.24</td>\n",
       "      <td>1.9</td>\n",
       "      <td>3.108245</td>\n",
       "      <td>0.747132</td>\n",
       "      <td>0.419881</td>\n",
       "      <td>5379.132716</td>\n",
       "      <td>0.005123</td>\n",
       "      <td>926.585950</td>\n",
       "      <td>...</td>\n",
       "      <td>1.398662</td>\n",
       "      <td>1.399290</td>\n",
       "      <td>1.400583</td>\n",
       "      <td>1.402436</td>\n",
       "      <td>1.404859</td>\n",
       "      <td>1.407386</td>\n",
       "      <td>1.408247</td>\n",
       "      <td>1.410545</td>\n",
       "      <td>1.412095</td>\n",
       "      <td>1.412541</td>\n",
       "    </tr>\n",
       "    <tr>\n",
       "      <th>98</th>\n",
       "      <td>0.8</td>\n",
       "      <td>0.005436</td>\n",
       "      <td>0.24</td>\n",
       "      <td>1.9</td>\n",
       "      <td>3.267434</td>\n",
       "      <td>0.748841</td>\n",
       "      <td>0.422918</td>\n",
       "      <td>5382.682766</td>\n",
       "      <td>0.005107</td>\n",
       "      <td>923.608921</td>\n",
       "      <td>...</td>\n",
       "      <td>1.391294</td>\n",
       "      <td>1.391928</td>\n",
       "      <td>1.393223</td>\n",
       "      <td>1.395067</td>\n",
       "      <td>1.397474</td>\n",
       "      <td>1.399957</td>\n",
       "      <td>1.400800</td>\n",
       "      <td>1.403049</td>\n",
       "      <td>1.404535</td>\n",
       "      <td>1.404906</td>\n",
       "    </tr>\n",
       "    <tr>\n",
       "      <th>...</th>\n",
       "      <td>...</td>\n",
       "      <td>...</td>\n",
       "      <td>...</td>\n",
       "      <td>...</td>\n",
       "      <td>...</td>\n",
       "      <td>...</td>\n",
       "      <td>...</td>\n",
       "      <td>...</td>\n",
       "      <td>...</td>\n",
       "      <td>...</td>\n",
       "      <td>...</td>\n",
       "      <td>...</td>\n",
       "      <td>...</td>\n",
       "      <td>...</td>\n",
       "      <td>...</td>\n",
       "      <td>...</td>\n",
       "      <td>...</td>\n",
       "      <td>...</td>\n",
       "      <td>...</td>\n",
       "      <td>...</td>\n",
       "      <td>...</td>\n",
       "    </tr>\n",
       "    <tr>\n",
       "      <th>8141226</th>\n",
       "      <td>1.2</td>\n",
       "      <td>0.008356</td>\n",
       "      <td>0.26</td>\n",
       "      <td>2.1</td>\n",
       "      <td>3.554510</td>\n",
       "      <td>1.618158</td>\n",
       "      <td>4.112896</td>\n",
       "      <td>6466.300029</td>\n",
       "      <td>0.008356</td>\n",
       "      <td>369.619476</td>\n",
       "      <td>...</td>\n",
       "      <td>-0.720931</td>\n",
       "      <td>-0.723980</td>\n",
       "      <td>-0.728858</td>\n",
       "      <td>-0.733526</td>\n",
       "      <td>-0.736238</td>\n",
       "      <td>-0.736958</td>\n",
       "      <td>-0.736472</td>\n",
       "      <td>-0.735313</td>\n",
       "      <td>-0.734033</td>\n",
       "      <td>-0.732827</td>\n",
       "    </tr>\n",
       "    <tr>\n",
       "      <th>8141264</th>\n",
       "      <td>1.2</td>\n",
       "      <td>0.008356</td>\n",
       "      <td>0.26</td>\n",
       "      <td>2.1</td>\n",
       "      <td>3.667650</td>\n",
       "      <td>1.702451</td>\n",
       "      <td>4.672071</td>\n",
       "      <td>6508.327797</td>\n",
       "      <td>0.008356</td>\n",
       "      <td>343.341898</td>\n",
       "      <td>...</td>\n",
       "      <td>-0.895334</td>\n",
       "      <td>-0.899904</td>\n",
       "      <td>-0.904568</td>\n",
       "      <td>-0.907474</td>\n",
       "      <td>-0.908225</td>\n",
       "      <td>-0.907673</td>\n",
       "      <td>-0.906482</td>\n",
       "      <td>-0.904969</td>\n",
       "      <td>-0.903527</td>\n",
       "      <td>-0.902178</td>\n",
       "    </tr>\n",
       "    <tr>\n",
       "      <th>8141282</th>\n",
       "      <td>1.2</td>\n",
       "      <td>0.008356</td>\n",
       "      <td>0.26</td>\n",
       "      <td>2.1</td>\n",
       "      <td>3.774330</td>\n",
       "      <td>1.748112</td>\n",
       "      <td>4.788557</td>\n",
       "      <td>6462.431294</td>\n",
       "      <td>0.008356</td>\n",
       "      <td>331.555865</td>\n",
       "      <td>...</td>\n",
       "      <td>-0.974270</td>\n",
       "      <td>-0.979266</td>\n",
       "      <td>-0.983474</td>\n",
       "      <td>-0.985388</td>\n",
       "      <td>-0.985472</td>\n",
       "      <td>-0.984538</td>\n",
       "      <td>-0.983059</td>\n",
       "      <td>-0.981513</td>\n",
       "      <td>-0.980171</td>\n",
       "      <td>-0.978957</td>\n",
       "    </tr>\n",
       "    <tr>\n",
       "      <th>8141338</th>\n",
       "      <td>1.2</td>\n",
       "      <td>0.008356</td>\n",
       "      <td>0.26</td>\n",
       "      <td>2.1</td>\n",
       "      <td>4.252229</td>\n",
       "      <td>2.062876</td>\n",
       "      <td>5.662514</td>\n",
       "      <td>6203.619826</td>\n",
       "      <td>0.008356</td>\n",
       "      <td>263.683964</td>\n",
       "      <td>...</td>\n",
       "      <td>-1.477917</td>\n",
       "      <td>-1.477918</td>\n",
       "      <td>-1.476475</td>\n",
       "      <td>-1.474651</td>\n",
       "      <td>-1.472634</td>\n",
       "      <td>-1.470777</td>\n",
       "      <td>-1.469152</td>\n",
       "      <td>-1.467973</td>\n",
       "      <td>-1.467163</td>\n",
       "      <td>-1.466741</td>\n",
       "    </tr>\n",
       "    <tr>\n",
       "      <th>8141394</th>\n",
       "      <td>1.2</td>\n",
       "      <td>0.008356</td>\n",
       "      <td>0.26</td>\n",
       "      <td>2.1</td>\n",
       "      <td>4.475256</td>\n",
       "      <td>2.386881</td>\n",
       "      <td>5.760859</td>\n",
       "      <td>5792.097128</td>\n",
       "      <td>0.008356</td>\n",
       "      <td>214.887097</td>\n",
       "      <td>...</td>\n",
       "      <td>-1.908720</td>\n",
       "      <td>-1.905538</td>\n",
       "      <td>-1.902426</td>\n",
       "      <td>-1.899565</td>\n",
       "      <td>-1.897306</td>\n",
       "      <td>-1.895556</td>\n",
       "      <td>-1.894535</td>\n",
       "      <td>-1.894048</td>\n",
       "      <td>-1.894133</td>\n",
       "      <td>-1.894708</td>\n",
       "    </tr>\n",
       "  </tbody>\n",
       "</table>\n",
       "<p>122434 rows × 184 columns</p>\n",
       "</div>"
      ],
      "text/plain": [
       "         initial_mass  initial_Zinit  initial_Yinit  initial_MLT  star_age  \\\n",
       "62                0.8       0.005436           0.24          1.9  1.830644   \n",
       "81                0.8       0.005436           0.24          1.9  2.590097   \n",
       "84                0.8       0.005436           0.24          1.9  2.709777   \n",
       "94                0.8       0.005436           0.24          1.9  3.108245   \n",
       "98                0.8       0.005436           0.24          1.9  3.267434   \n",
       "...               ...            ...            ...          ...       ...   \n",
       "8141226           1.2       0.008356           0.26          2.1  3.554510   \n",
       "8141264           1.2       0.008356           0.26          2.1  3.667650   \n",
       "8141282           1.2       0.008356           0.26          2.1  3.774330   \n",
       "8141338           1.2       0.008356           0.26          2.1  4.252229   \n",
       "8141394           1.2       0.008356           0.26          2.1  4.475256   \n",
       "\n",
       "           radius  luminosity  effective_T  surface_Z      nu_0_4  ...  \\\n",
       "62       0.734012    0.396820  5350.894460   0.005250  950.115061  ...   \n",
       "81       0.741693    0.410267  5367.648220   0.005174  936.194939  ...   \n",
       "84       0.742931    0.412453  5370.302004   0.005162  933.989169  ...   \n",
       "94       0.747132    0.419881  5379.132716   0.005123  926.585950  ...   \n",
       "98       0.748841    0.422918  5382.682766   0.005107  923.608921  ...   \n",
       "...           ...         ...          ...        ...         ...  ...   \n",
       "8141226  1.618158    4.112896  6466.300029   0.008356  369.619476  ...   \n",
       "8141264  1.702451    4.672071  6508.327797   0.008356  343.341898  ...   \n",
       "8141282  1.748112    4.788557  6462.431294   0.008356  331.555865  ...   \n",
       "8141338  2.062876    5.662514  6203.619826   0.008356  263.683964  ...   \n",
       "8141394  2.386881    5.760859  5792.097128   0.008356  214.887097  ...   \n",
       "\n",
       "         log_nu_0_31_std  log_nu_0_32_std  log_nu_0_33_std  log_nu_0_34_std  \\\n",
       "62              1.455915         1.456489         1.457780         1.459687   \n",
       "81              1.422254         1.422858         1.424153         1.426027   \n",
       "84              1.416864         1.417473         1.418768         1.420637   \n",
       "94              1.398662         1.399290         1.400583         1.402436   \n",
       "98              1.391294         1.391928         1.393223         1.395067   \n",
       "...                  ...              ...              ...              ...   \n",
       "8141226        -0.720931        -0.723980        -0.728858        -0.733526   \n",
       "8141264        -0.895334        -0.899904        -0.904568        -0.907474   \n",
       "8141282        -0.974270        -0.979266        -0.983474        -0.985388   \n",
       "8141338        -1.477917        -1.477918        -1.476475        -1.474651   \n",
       "8141394        -1.908720        -1.905538        -1.902426        -1.899565   \n",
       "\n",
       "         log_nu_0_35_std  log_nu_0_36_std  log_nu_0_37_std  log_nu_0_38_std  \\\n",
       "62              1.462175         1.464995         1.467707         1.468723   \n",
       "81              1.428489         1.431149         1.433287         1.434534   \n",
       "84              1.423093         1.425723         1.427704         1.429056   \n",
       "94              1.404859         1.407386         1.408247         1.410545   \n",
       "98              1.397474         1.399957         1.400800         1.403049   \n",
       "...                  ...              ...              ...              ...   \n",
       "8141226        -0.736238        -0.736958        -0.736472        -0.735313   \n",
       "8141264        -0.908225        -0.907673        -0.906482        -0.904969   \n",
       "8141282        -0.985472        -0.984538        -0.983059        -0.981513   \n",
       "8141338        -1.472634        -1.470777        -1.469152        -1.467973   \n",
       "8141394        -1.897306        -1.895556        -1.894535        -1.894048   \n",
       "\n",
       "         log_nu_0_39_std  log_nu_0_40_std  \n",
       "62              1.470753         1.471765  \n",
       "81              1.436288         1.436969  \n",
       "84              1.430764         1.431392  \n",
       "94              1.412095         1.412541  \n",
       "98              1.404535         1.404906  \n",
       "...                  ...              ...  \n",
       "8141226        -0.734033        -0.732827  \n",
       "8141264        -0.903527        -0.902178  \n",
       "8141282        -0.980171        -0.978957  \n",
       "8141338        -1.467163        -1.466741  \n",
       "8141394        -1.894133        -1.894708  \n",
       "\n",
       "[122434 rows x 184 columns]"
      ]
     },
     "execution_count": 19,
     "metadata": {},
     "output_type": "execute_result"
    }
   ],
   "source": [
    "df_test = pd.read_hdf('/home/oxs235/repos/ojscutt/sl-pitchfork/test_data.h5', key='df')\n",
    "df_test"
   ]
  },
  {
   "cell_type": "code",
   "execution_count": 20,
   "id": "f922701a-0bcc-40e1-ab04-08dc519b6888",
   "metadata": {},
   "outputs": [],
   "source": [
    "df_test = pd.read_hdf('/home/oxs235/repos/ojscutt/sl-pitchfork/test_data.h5', key='df')\n",
    "df_time_test = df_test.sample(n=1000)\n",
    "df_time_test_inputs = np.array([df_time_test[['initial_mass', 'initial_Zinit', 'initial_Yinit', 'initial_MLT', 'star_age']].values])"
   ]
  },
  {
   "cell_type": "code",
   "execution_count": 21,
   "id": "2b96375c-db02-42c6-9f46-fb633e92d8e4",
   "metadata": {},
   "outputs": [
    {
     "name": "stdout",
     "output_type": "stream",
     "text": [
      "CPU times: user 39.6 s, sys: 7.85 s, total: 47.5 s\n",
      "Wall time: 34.5 s\n"
     ]
    }
   ],
   "source": [
    "%%time\n",
    "for i in range(1000):\n",
    "    pitchfork.predict(df_time_test_inputs[:,i])"
   ]
  },
  {
   "cell_type": "code",
   "execution_count": 22,
   "id": "11a13406-a293-48fb-876f-abd7e4bf1e4f",
   "metadata": {},
   "outputs": [
    {
     "name": "stdout",
     "output_type": "stream",
     "text": [
      "CPU times: user 40 s, sys: 7.92 s, total: 47.9 s\n",
      "Wall time: 34.8 s\n"
     ]
    }
   ],
   "source": [
    "%%time\n",
    "for i in range(1000):\n",
    "    model.predict(df_time_test_inputs[:,i],verbose=False)"
   ]
  },
  {
   "cell_type": "code",
   "execution_count": null,
   "id": "15cefbb6-17f6-4397-aa64-f8bdf6033efb",
   "metadata": {},
   "outputs": [],
   "source": []
  },
  {
   "cell_type": "code",
   "execution_count": null,
   "id": "7c030922-c1c5-4924-bb88-e03afb999dc7",
   "metadata": {},
   "outputs": [],
   "source": []
  }
 ],
 "metadata": {
  "kernelspec": {
   "display_name": "Python 3 (ipykernel)",
   "language": "python",
   "name": "python3"
  },
  "language_info": {
   "codemirror_mode": {
    "name": "ipython",
    "version": 3
   },
   "file_extension": ".py",
   "mimetype": "text/x-python",
   "name": "python",
   "nbconvert_exporter": "python",
   "pygments_lexer": "ipython3",
   "version": "3.9.18"
  }
 },
 "nbformat": 4,
 "nbformat_minor": 5
}
