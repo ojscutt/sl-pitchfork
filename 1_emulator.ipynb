{
 "cells": [
  {
   "cell_type": "markdown",
   "id": "213610ba-64db-453b-9be6-e6646b00e246",
   "metadata": {},
   "source": [
    "# 1_emulator\n",
    "notebook for loading in a trained emulator, incuding the .json file with custom_object variables and data scaling values.\\\n",
    "Emulator .model and .json are stored in files in the repo."
   ]
  },
  {
   "cell_type": "code",
   "execution_count": 3,
   "id": "a29cfbd7-fa05-4d16-aab3-49c2b8f8fade",
   "metadata": {},
   "outputs": [
    {
     "name": "stderr",
     "output_type": "stream",
     "text": [
      "2024-03-12 14:24:08.918994: E external/local_xla/xla/stream_executor/cuda/cuda_dnn.cc:9261] Unable to register cuDNN factory: Attempting to register factory for plugin cuDNN when one has already been registered\n",
      "2024-03-12 14:24:08.919026: E external/local_xla/xla/stream_executor/cuda/cuda_fft.cc:607] Unable to register cuFFT factory: Attempting to register factory for plugin cuFFT when one has already been registered\n",
      "2024-03-12 14:24:08.919887: E external/local_xla/xla/stream_executor/cuda/cuda_blas.cc:1515] Unable to register cuBLAS factory: Attempting to register factory for plugin cuBLAS when one has already been registered\n",
      "2024-03-12 14:24:08.924650: I tensorflow/core/platform/cpu_feature_guard.cc:182] This TensorFlow binary is optimized to use available CPU instructions in performance-critical operations.\n",
      "To enable the following instructions: AVX2 FMA, in other operations, rebuild TensorFlow with the appropriate compiler flags.\n",
      "2024-03-12 14:24:09.503579: W tensorflow/compiler/tf2tensorrt/utils/py_utils.cc:38] TF-TRT Warning: Could not find TensorRT\n"
     ]
    },
    {
     "name": "stdout",
     "output_type": "stream",
     "text": [
      "Current GPU usage:\n",
      " - GPU0: 0B\n",
      "\n"
     ]
    },
    {
     "name": "stderr",
     "output_type": "stream",
     "text": [
      "2024-03-12 14:24:10.025292: I tensorflow/core/common_runtime/gpu/gpu_device.cc:1929] Created device /job:localhost/replica:0/task:0/device:GPU:0 with 17862 MB memory:  -> device: 0, name: NVIDIA RTX A4500, pci bus id: 0000:41:00.0, compute capability: 8.6\n"
     ]
    }
   ],
   "source": [
    "#### misc\n",
    "import pandas as pd\n",
    "import numpy as np\n",
    "import os\n",
    "from pathlib import Path\n",
    "import pickle\n",
    "import time\n",
    "from itertools import product\n",
    "from scipy import constants\n",
    "from scipy import stats\n",
    "import random\n",
    "import astropy.constants\n",
    "from numpy.random import default_rng\n",
    "import json\n",
    "\n",
    "#### graphical\n",
    "import matplotlib.pyplot as plt\n",
    "\n",
    "#### ML\n",
    "import sklearn\n",
    "from sklearn.decomposition import PCA\n",
    "import tensorflow as tf\n",
    "import keras\n",
    "from keras import layers\n",
    "\n",
    "#### custom\n",
    "from InversePCA import InversePCA\n",
    "from WMSE import WMSE, WMSE_metric\n",
    "\n",
    "##### poke gpu\n",
    "os.environ[\"CUDA_VISIBLE_DEVICES\"]=\"0\"\n",
    "\n",
    "physical_devices = tf.config.list_physical_devices(\"GPU\") \n",
    "\n",
    "gpu0usage = tf.config.experimental.get_memory_info(\"GPU:0\")[\"current\"]\n",
    "\n",
    "print(\"Current GPU usage:\\n\"\n",
    "     + \" - GPU0: \" + str(gpu0usage) + \"B\\n\")"
   ]
  },
  {
   "cell_type": "markdown",
   "id": "83dcf3b2-3a10-491d-ab7a-59ea33d79f01",
   "metadata": {},
   "source": [
    "# 1) Specify emulator name\n",
    "if file structure has been organised properly, just the name should find the emulator and unpack the relevant .json and .model files"
   ]
  },
  {
   "cell_type": "code",
   "execution_count": 1,
   "id": "11574daa-38a0-49b1-b75a-542fc90cd2cf",
   "metadata": {},
   "outputs": [],
   "source": [
    "pitchfork_name = \"nu15-25_emulator\""
   ]
  },
  {
   "cell_type": "markdown",
   "id": "b6ed9e32-26ab-4fe7-9d24-4fd151c1ed35",
   "metadata": {},
   "source": [
    "# 2) Unpack .json file\n",
    "Unpack .json, print architecture and emulator parameter ranges"
   ]
  },
  {
   "cell_type": "code",
   "execution_count": 25,
   "id": "d92cd00e-dc72-4ca9-8035-4ba6ad4cde2a",
   "metadata": {},
   "outputs": [],
   "source": [
    "json_file_path = pitchfork_name+\"/\"+pitchfork_name+\".json\"\n",
    "\n",
    "with open(json_file_path, 'r') as fp:\n",
    "     pitchfork_dict = json.loads(fp.read())\n",
    "\n",
    "pca_comps = np.array(pitchfork_dict[\"custom_objects\"][\"inverse_pca\"][\"pca_comps\"])\n",
    "pca_mean = np.array(pitchfork_dict[\"custom_objects\"][\"inverse_pca\"][\"pca_mean\"])\n",
    "weights = pitchfork_dict[\"custom_objects\"][\"WMSE\"][\"weights\"]\n",
    "\n",
    "inp_mean = np.array(list((pitchfork_dict[\"data_scaling\"][\"inp_mean\"].values())))\n",
    "inp_std = np.array(list((pitchfork_dict[\"data_scaling\"][\"inp_std\"].values())))\n",
    "\n",
    "classical_out_mean = np.array(list((pitchfork_dict[\"data_scaling\"][\"classical_out_mean\"].values())))\n",
    "classica_out_std = np.array(list((pitchfork_dict[\"data_scaling\"][\"classical_out_std\"].values())))\n",
    "\n",
    "astero_out_mean = np.array(list((pitchfork_dict[\"data_scaling\"][\"astero_out_mean\"].values())))\n",
    "astero_out_std = np.array(list((pitchfork_dict[\"data_scaling\"][\"astero_out_std\"].values())))"
   ]
  },
  {
   "cell_type": "markdown",
   "id": "d01ba132-72f0-4c00-b858-2b25d07980b0",
   "metadata": {},
   "source": [
    "# 3) Load in emulator with custom objects\n",
    "Loading in the emulator from keras .model file using custom objects from dict"
   ]
  },
  {
   "cell_type": "code",
   "execution_count": null,
   "id": "dbc682a5-97b3-4c4a-ae9f-82bdd3cb65d4",
   "metadata": {},
   "outputs": [],
   "source": []
  }
 ],
 "metadata": {
  "kernelspec": {
   "display_name": "Python 3 (ipykernel)",
   "language": "python",
   "name": "python3"
  },
  "language_info": {
   "codemirror_mode": {
    "name": "ipython",
    "version": 3
   },
   "file_extension": ".py",
   "mimetype": "text/x-python",
   "name": "python",
   "nbconvert_exporter": "python",
   "pygments_lexer": "ipython3",
   "version": "3.9.18"
  }
 },
 "nbformat": 4,
 "nbformat_minor": 5
}
