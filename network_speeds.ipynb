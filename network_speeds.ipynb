{
 "cells": [
  {
   "cell_type": "code",
   "execution_count": 9,
   "id": "b268c48f-4f29-4577-bc4f-9047b7e207ed",
   "metadata": {},
   "outputs": [],
   "source": [
    "import numpy as np\n",
    "import tensorflow as tf\n",
    "import keras\n",
    "from keras import layers"
   ]
  },
  {
   "cell_type": "markdown",
   "id": "9e8eb130-53f7-4b57-8118-6dddf00ab7b9",
   "metadata": {},
   "source": [
    "# generate some data :"
   ]
  },
  {
   "cell_type": "code",
   "execution_count": 2,
   "id": "264ee84d-7767-44a5-b51f-54546fcaa988",
   "metadata": {},
   "outputs": [],
   "source": [
    "x = np.random.uniform(size=100000)\n",
    "y = (x*x)+x+1"
   ]
  },
  {
   "cell_type": "markdown",
   "id": "730fb895-0b7a-4f0d-a88b-d153efc6635d",
   "metadata": {},
   "source": [
    "# test for relu vs swish"
   ]
  },
  {
   "cell_type": "markdown",
   "id": "7694eab1-d4f4-4711-bf05-abd6f50a6bad",
   "metadata": {},
   "source": [
    "## relu\n"
   ]
  },
  {
   "cell_type": "code",
   "execution_count": 18,
   "id": "a54dfa2e-33e7-4306-83a4-359593bee4ca",
   "metadata": {},
   "outputs": [
    {
     "name": "stdout",
     "output_type": "stream",
     "text": [
      "Epoch 1/10\n",
      "98/98 [==============================] - 2s 4ms/step - loss: 0.2340\n",
      "Epoch 2/10\n",
      "98/98 [==============================] - 0s 5ms/step - loss: 0.0671\n",
      "Epoch 3/10\n",
      "98/98 [==============================] - 0s 5ms/step - loss: 0.0692\n",
      "Epoch 4/10\n",
      "98/98 [==============================] - 0s 5ms/step - loss: 0.0320\n",
      "Epoch 5/10\n",
      "98/98 [==============================] - 0s 5ms/step - loss: 0.0541\n",
      "Epoch 6/10\n",
      "98/98 [==============================] - 0s 5ms/step - loss: 0.0282\n",
      "Epoch 7/10\n",
      "98/98 [==============================] - 0s 5ms/step - loss: 0.0462\n",
      "Epoch 8/10\n",
      "98/98 [==============================] - 0s 5ms/step - loss: 0.0313\n",
      "Epoch 9/10\n",
      "98/98 [==============================] - 0s 5ms/step - loss: 0.0309\n",
      "Epoch 10/10\n",
      "98/98 [==============================] - 0s 5ms/step - loss: 0.0190\n"
     ]
    }
   ],
   "source": [
    "nn_input = keras.Input(shape=(1,))\n",
    "\n",
    "\n",
    "for i in range(10):\n",
    "    if i == 0:\n",
    "        nn_dense = layers.Dense(128, activation='relu')(nn_input)\n",
    "    else:\n",
    "        nn_dense = layers.Dense(128, activation='relu')(nn_dense)\n",
    "\n",
    "nn_output = layers.Dense(1, activation='linear')(nn_dense)\n",
    "\n",
    "relu_model = keras.Model(inputs=nn_input, outputs=nn_output)\n",
    "relu_model.compile(loss='MAE', optimizer='Adam')\n",
    "\n",
    "history=relu_model.fit(x,y,batch_size=1024, verbose=1, epochs=10)"
   ]
  },
  {
   "cell_type": "code",
   "execution_count": 27,
   "id": "c4f59466-6843-4dac-a7dd-a7f54d85f702",
   "metadata": {},
   "outputs": [
    {
     "name": "stdout",
     "output_type": "stream",
     "text": [
      "41.1 ms ± 539 µs per loop (mean ± std. dev. of 7 runs, 10 loops each)\n"
     ]
    }
   ],
   "source": [
    "%%timeit\n",
    "relu_model.predict([[1]], verbose=False)"
   ]
  },
  {
   "cell_type": "code",
   "execution_count": 26,
   "id": "e30e49e8-003f-4618-ac26-09cdc4e4a842",
   "metadata": {},
   "outputs": [
    {
     "name": "stdout",
     "output_type": "stream",
     "text": [
      "3.22 ms ± 4.39 µs per loop (mean ± std. dev. of 7 runs, 100 loops each)\n"
     ]
    }
   ],
   "source": [
    "%%timeit\n",
    "relu_model(np.array([1]))"
   ]
  },
  {
   "cell_type": "markdown",
   "id": "c4e57cdc-84e5-4a6a-8cd0-516c30eace24",
   "metadata": {},
   "source": [
    "## swish"
   ]
  },
  {
   "cell_type": "code",
   "execution_count": 15,
   "id": "ebfa4756-9613-4416-95ef-23c638475417",
   "metadata": {},
   "outputs": [
    {
     "name": "stdout",
     "output_type": "stream",
     "text": [
      "Epoch 1/10\n",
      "98/98 [==============================] - 2s 5ms/step - loss: 0.2881\n",
      "Epoch 2/10\n",
      "98/98 [==============================] - 1s 6ms/step - loss: 0.0539\n",
      "Epoch 3/10\n",
      "98/98 [==============================] - 1s 5ms/step - loss: 0.0574\n",
      "Epoch 4/10\n",
      "98/98 [==============================] - 1s 5ms/step - loss: 0.0778\n",
      "Epoch 5/10\n",
      "98/98 [==============================] - 1s 5ms/step - loss: 0.0570\n",
      "Epoch 6/10\n",
      "98/98 [==============================] - 1s 5ms/step - loss: 0.0563\n",
      "Epoch 7/10\n",
      "98/98 [==============================] - 1s 5ms/step - loss: 0.0576\n",
      "Epoch 8/10\n",
      "98/98 [==============================] - 1s 5ms/step - loss: 0.0558\n",
      "Epoch 9/10\n",
      "98/98 [==============================] - 1s 5ms/step - loss: 0.0430\n",
      "Epoch 10/10\n",
      "98/98 [==============================] - 1s 5ms/step - loss: 0.0568\n"
     ]
    }
   ],
   "source": [
    "nn_input = keras.Input(shape=(1,))\n",
    "\n",
    "\n",
    "for i in range(10):\n",
    "    if i == 0:\n",
    "        nn_dense = layers.Dense(128, activation='swish')(nn_input)\n",
    "    else:\n",
    "        nn_dense = layers.Dense(128, activation='swish')(nn_dense)\n",
    "\n",
    "nn_output = layers.Dense(1, activation='linear')(nn_dense)\n",
    "\n",
    "swish_model = keras.Model(inputs=nn_input, outputs=nn_output)\n",
    "swish_model.compile(loss='MAE', optimizer='Adam')\n",
    "\n",
    "history=swish_model.fit(x,y,batch_size=1024, verbose=1, epochs=10)"
   ]
  },
  {
   "cell_type": "code",
   "execution_count": 28,
   "id": "a73e9b80-0935-4443-815b-6241e5e2b4fa",
   "metadata": {},
   "outputs": [
    {
     "name": "stdout",
     "output_type": "stream",
     "text": [
      "41.4 ms ± 429 µs per loop (mean ± std. dev. of 7 runs, 10 loops each)\n"
     ]
    }
   ],
   "source": [
    "%%timeit\n",
    "relu_model.predict([[1]], verbose=False)"
   ]
  },
  {
   "cell_type": "code",
   "execution_count": 29,
   "id": "4bffe72a-dd4f-4101-b7d7-ec7891a14407",
   "metadata": {},
   "outputs": [
    {
     "name": "stdout",
     "output_type": "stream",
     "text": [
      "3.25 ms ± 10.1 µs per loop (mean ± std. dev. of 7 runs, 100 loops each)\n"
     ]
    }
   ],
   "source": [
    "%%timeit\n",
    "relu_model(np.array([1]))"
   ]
  },
  {
   "cell_type": "markdown",
   "id": "30dedfe9-9c6f-4fa9-b449-64273a0bfd04",
   "metadata": {},
   "source": [
    "# what the fuck?"
   ]
  },
  {
   "cell_type": "code",
   "execution_count": 43,
   "id": "328e48f6-ca86-4d89-901a-f101085c7aa6",
   "metadata": {
    "scrolled": true
   },
   "outputs": [
    {
     "name": "stdout",
     "output_type": "stream",
     "text": [
      "Epoch 1/10\n",
      "98/98 [==============================] - 1s 2ms/step - loss: 1.7832\n",
      "Epoch 2/10\n",
      "98/98 [==============================] - 0s 2ms/step - loss: 1.6852\n",
      "Epoch 3/10\n",
      "98/98 [==============================] - 0s 2ms/step - loss: 1.5872\n",
      "Epoch 4/10\n",
      "98/98 [==============================] - 0s 2ms/step - loss: 1.4892\n",
      "Epoch 5/10\n",
      "98/98 [==============================] - 0s 2ms/step - loss: 1.3912\n",
      "Epoch 6/10\n",
      "98/98 [==============================] - 0s 2ms/step - loss: 1.2932\n",
      "Epoch 7/10\n",
      "98/98 [==============================] - 0s 2ms/step - loss: 1.1952\n",
      "Epoch 8/10\n",
      "98/98 [==============================] - 0s 2ms/step - loss: 1.0972\n",
      "Epoch 9/10\n",
      "98/98 [==============================] - 0s 2ms/step - loss: 0.9992\n",
      "Epoch 10/10\n",
      "98/98 [==============================] - 0s 2ms/step - loss: 0.9012\n"
     ]
    }
   ],
   "source": [
    "nn_input = keras.Input(shape=(1,))\n",
    "\n",
    "\n",
    "for i in range(1):\n",
    "    if i == 0:\n",
    "        nn_dense = layers.Dense(1, activation='relu')(nn_input)\n",
    "    else:\n",
    "        nn_dense = layers.Dense(1, activation='relu')(nn_dense)\n",
    "\n",
    "nn_output = layers.Dense(1, activation='linear')(nn_dense)\n",
    "\n",
    "trash_model = keras.Model(inputs=nn_input, outputs=nn_output)\n",
    "trash_model.compile(loss='MAE', optimizer='Adam')\n",
    "\n",
    "history=trash_model.fit(x,y,batch_size=1024, verbose=1, epochs=10)"
   ]
  },
  {
   "cell_type": "code",
   "execution_count": 55,
   "id": "ff463589-b23c-45b9-b0db-9a3c68979b8e",
   "metadata": {},
   "outputs": [
    {
     "name": "stdout",
     "output_type": "stream",
     "text": [
      "41.7 ms ± 1.01 ms per loop (mean ± std. dev. of 7 runs, 10 loops each)\n"
     ]
    }
   ],
   "source": [
    "%%timeit -n 10\n",
    "trash_model.predict([[1]], verbose=False)"
   ]
  },
  {
   "cell_type": "code",
   "execution_count": 60,
   "id": "37da3fe1-4147-459f-a81b-d5fbf26e29cb",
   "metadata": {},
   "outputs": [
    {
     "name": "stdout",
     "output_type": "stream",
     "text": [
      "836 µs ± 8.95 µs per loop (mean ± std. dev. of 7 runs, 1,000 loops each)\n"
     ]
    }
   ],
   "source": [
    "%%timeit -n 1000\n",
    "trash_model(np.array([1]))"
   ]
  },
  {
   "cell_type": "code",
   "execution_count": 57,
   "id": "378ab9f0-f373-474f-95cb-6bef7d876fdb",
   "metadata": {},
   "outputs": [
    {
     "name": "stdout",
     "output_type": "stream",
     "text": [
      "40.9 ms ± 754 µs per loop (mean ± std. dev. of 7 runs, 10 loops each)\n"
     ]
    }
   ],
   "source": [
    "%timeit trash_model.predict([1], verbose=False)"
   ]
  },
  {
   "cell_type": "code",
   "execution_count": 59,
   "id": "4e7539cb-8d0d-4aba-bb56-9e5da6f73c23",
   "metadata": {},
   "outputs": [
    {
     "name": "stdout",
     "output_type": "stream",
     "text": [
      "827 µs ± 1.35 µs per loop (mean ± std. dev. of 7 runs, 1,000 loops each)\n"
     ]
    }
   ],
   "source": [
    "%timeit trash_model(np.array([1]))"
   ]
  },
  {
   "cell_type": "code",
   "execution_count": null,
   "id": "d917ed26-fbbf-48ec-8810-ad273ea8b598",
   "metadata": {},
   "outputs": [],
   "source": []
  }
 ],
 "metadata": {
  "kernelspec": {
   "display_name": "Python 3 (ipykernel)",
   "language": "python",
   "name": "python3"
  },
  "language_info": {
   "codemirror_mode": {
    "name": "ipython",
    "version": 3
   },
   "file_extension": ".py",
   "mimetype": "text/x-python",
   "name": "python",
   "nbconvert_exporter": "python",
   "pygments_lexer": "ipython3",
   "version": "3.9.18"
  }
 },
 "nbformat": 4,
 "nbformat_minor": 5
}
